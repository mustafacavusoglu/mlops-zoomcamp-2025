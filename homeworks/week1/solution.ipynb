{
 "cells": [
  {
   "cell_type": "code",
   "execution_count": 53,
   "id": "37a8cae6",
   "metadata": {},
   "outputs": [
    {
     "data": {
      "text/plain": [
       "19"
      ]
     },
     "execution_count": 53,
     "metadata": {},
     "output_type": "execute_result"
    }
   ],
   "source": [
    "import pandas as pd\n",
    "\n",
    "data_path = '/Users/mustafacavusoglu/workspace/mlops-course/data'\n",
    "\n",
    "data = pd.read_parquet(f'{data_path}/yellow_tripdata_2023-01.parquet')\n",
    "len(data.columns)"
   ]
  },
  {
   "cell_type": "code",
   "execution_count": 54,
   "id": "a11394d4",
   "metadata": {},
   "outputs": [],
   "source": [
    "data['duration'] = data['tpep_dropoff_datetime'] - data['tpep_pickup_datetime']\n",
    "data['duration'] = data['duration'].dt.total_seconds() / 60"
   ]
  },
  {
   "cell_type": "code",
   "execution_count": 55,
   "id": "5bddef4d",
   "metadata": {},
   "outputs": [
    {
     "name": "stdout",
     "output_type": "stream",
     "text": [
      "Standard deviation of duration: 42.59435124195458\n"
     ]
    }
   ],
   "source": [
    "# Q2\n",
    "#std dev of duration\n",
    "std_dev = data['duration'].std()\n",
    "print(f'Standard deviation of duration: {std_dev}')"
   ]
  },
  {
   "cell_type": "code",
   "execution_count": 56,
   "id": "ec11462d",
   "metadata": {},
   "outputs": [
    {
     "data": {
      "text/plain": [
       "98.1220282212598"
      ]
     },
     "execution_count": 56,
     "metadata": {},
     "output_type": "execute_result"
    }
   ],
   "source": [
    "# Q3\n",
    "# filter out smalller than 1 minute and larger than 60 minutes\n",
    "data_dropped = data[(data['duration'] >= 1) & (data['duration'] <= 60)]\n",
    "data_dropped.shape[0] / data.shape[0] * 100"
   ]
  },
  {
   "cell_type": "code",
   "execution_count": 57,
   "id": "0444c734",
   "metadata": {},
   "outputs": [
    {
     "data": {
      "text/plain": [
       "(3009173, 515)"
      ]
     },
     "execution_count": 57,
     "metadata": {},
     "output_type": "execute_result"
    }
   ],
   "source": [
    "# Q4\n",
    "from sklearn.feature_extraction import DictVectorizer\n",
    "\n",
    "# Convert the DataFrame to a list of dictionaries\n",
    "data_dicts = data_dropped[['PULocationID', 'DOLocationID']].to_dict(orient='records')\n",
    "# Convert the IDs to strings\n",
    "for record in data_dicts:\n",
    "    record['PULocationID'] = str(record['PULocationID'])\n",
    "    record['DOLocationID'] = str(record['DOLocationID'])\n",
    "# Initialize the DictVectorizer\n",
    "dv = DictVectorizer()\n",
    "# Fit the DictVectorizer and transform the data\n",
    "X = dv.fit_transform(data_dicts)\n",
    "# Convert the sparse matrix to a dense format\n",
    "X_dense = X.toarray()\n",
    "# Convert the dense matrix to a DataFrame\n",
    "X_df = pd.DataFrame(X_dense, columns=dv.get_feature_names_out())\n",
    "# Display the first few rows of the DataFrame\n",
    "X_df.shape"
   ]
  },
  {
   "cell_type": "code",
   "execution_count": 59,
   "id": "68b73b17",
   "metadata": {},
   "outputs": [
    {
     "name": "stdout",
     "output_type": "stream",
     "text": [
      "RMSE on train: 7.649262183753913\n"
     ]
    }
   ],
   "source": [
    "# Q5\n",
    "\n",
    "from sklearn.linear_model import LinearRegression\n",
    "from sklearn.metrics import mean_squared_error\n",
    "\n",
    "model = LinearRegression()\n",
    "model.fit(X, data_dropped['duration'])\n",
    "y_pred = model.predict(X)\n",
    "rmse = mean_squared_error(data_dropped['duration'], y_pred)\n",
    "print(f'RMSE on train: {rmse ** 0.5}')\n"
   ]
  },
  {
   "cell_type": "code",
   "execution_count": 60,
   "id": "80e93701",
   "metadata": {},
   "outputs": [
    {
     "name": "stdout",
     "output_type": "stream",
     "text": [
      "RMSE on validation: 7.811812092681157\n"
     ]
    }
   ],
   "source": [
    "# Q6\n",
    "\n",
    "# validation set\n",
    "data_val = pd.read_parquet(f'{data_path}/yellow_tripdata_2023-02.parquet')\n",
    "data_val['duration'] = data_val['tpep_dropoff_datetime'] - data_val['tpep_pickup_datetime']\n",
    "data_val['duration'] = data_val['duration'].dt.total_seconds() / 60\n",
    "data_val_dropped = data_val[(data_val['duration'] >= 1) & (data_val['duration'] <= 60)]\n",
    "data_val_dicts = data_val_dropped[['PULocationID', 'DOLocationID']].to_dict(orient='records')\n",
    "for record in data_val_dicts:\n",
    "    record['PULocationID'] = str(record['PULocationID'])\n",
    "    record['DOLocationID'] = str(record['DOLocationID'])\n",
    "X_val = dv.transform(data_val_dicts)\n",
    "y_val_pred = model.predict(X_val)\n",
    "rmse_val = mean_squared_error(data_val_dropped['duration'], y_val_pred)\n",
    "print(f'RMSE on validation: {rmse_val ** 0.5}')"
   ]
  },
  {
   "cell_type": "code",
   "execution_count": null,
   "id": "9f821d49",
   "metadata": {},
   "outputs": [],
   "source": []
  }
 ],
 "metadata": {
  "kernelspec": {
   "display_name": "mlops",
   "language": "python",
   "name": "python3"
  },
  "language_info": {
   "codemirror_mode": {
    "name": "ipython",
    "version": 3
   },
   "file_extension": ".py",
   "mimetype": "text/x-python",
   "name": "python",
   "nbconvert_exporter": "python",
   "pygments_lexer": "ipython3",
   "version": "3.10.16"
  }
 },
 "nbformat": 4,
 "nbformat_minor": 5
}
