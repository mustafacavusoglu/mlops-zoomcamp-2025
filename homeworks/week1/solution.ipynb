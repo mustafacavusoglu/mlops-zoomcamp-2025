{
 "cells": [
  {
   "cell_type": "code",
   "execution_count": 2,
   "id": "37a8cae6",
   "metadata": {},
   "outputs": [
    {
     "data": {
      "text/plain": [
       "19"
      ]
     },
     "execution_count": 2,
     "metadata": {},
     "output_type": "execute_result"
    }
   ],
   "source": [
    "import pandas as pd\n",
    "\n",
    "data_path = '/Users/mustafacavusoglu/workspace/mlops-course/data'\n",
    "\n",
    "data = pd.read_parquet(f'{data_path}/yellow_tripdata_2023-01.parquet')\n",
    "len(data.columns)"
   ]
  },
  {
   "cell_type": "code",
   "execution_count": 7,
   "id": "a11394d4",
   "metadata": {},
   "outputs": [],
   "source": [
    "data['duration'] = data['tpep_dropoff_datetime'] - data['tpep_pickup_datetime']\n",
    "data['duration'] = data['duration'].dt.total_seconds() / 60"
   ]
  },
  {
   "cell_type": "code",
   "execution_count": 8,
   "id": "5bddef4d",
   "metadata": {},
   "outputs": [
    {
     "name": "stdout",
     "output_type": "stream",
     "text": [
      "Standard deviation of duration: 42.59435124195458\n"
     ]
    }
   ],
   "source": [
    "#std dev of duration\n",
    "std_dev = data['duration'].std()\n",
    "print(f'Standard deviation of duration: {std_dev}')"
   ]
  },
  {
   "cell_type": "code",
   "execution_count": 13,
   "id": "73470d2d",
   "metadata": {},
   "outputs": [
    {
     "data": {
      "text/plain": [
       "3066766"
      ]
     },
     "execution_count": 13,
     "metadata": {},
     "output_type": "execute_result"
    }
   ],
   "source": [
    "data.shape[0]"
   ]
  },
  {
   "cell_type": "code",
   "execution_count": 12,
   "id": "ec11462d",
   "metadata": {},
   "outputs": [
    {
     "data": {
      "text/plain": [
       "(3009173, 20)"
      ]
     },
     "execution_count": 12,
     "metadata": {},
     "output_type": "execute_result"
    }
   ],
   "source": [
    "# filter out smalller than 1 minute and larger than 60 minutes\n",
    "data[(data['duration'] >= 1) & (data['duration'] <= 60)].shape\n"
   ]
  },
  {
   "cell_type": "code",
   "execution_count": 14,
   "id": "45b986d8",
   "metadata": {},
   "outputs": [
    {
     "data": {
      "text/plain": [
       "0.9812202822125979"
      ]
     },
     "execution_count": 14,
     "metadata": {},
     "output_type": "execute_result"
    }
   ],
   "source": [
    "3009173 / 3066766"
   ]
  },
  {
   "cell_type": "code",
   "execution_count": 16,
   "id": "54518b94",
   "metadata": {},
   "outputs": [
    {
     "data": {
      "text/plain": [
       "257"
      ]
     },
     "execution_count": 16,
     "metadata": {},
     "output_type": "execute_result"
    }
   ],
   "source": [
    "data['PULocationID'].nunique()"
   ]
  },
  {
   "cell_type": "code",
   "execution_count": 17,
   "id": "47f25abd",
   "metadata": {},
   "outputs": [
    {
     "data": {
      "text/plain": [
       "261"
      ]
     },
     "execution_count": 17,
     "metadata": {},
     "output_type": "execute_result"
    }
   ],
   "source": [
    "data['DOLocationID'].nunique()"
   ]
  },
  {
   "cell_type": "code",
   "execution_count": 24,
   "id": "0444c734",
   "metadata": {},
   "outputs": [
    {
     "data": {
      "application/vnd.microsoft.datawrangler.viewer.v0+json": {
       "columns": [
        {
         "name": "index",
         "rawType": "int64",
         "type": "integer"
        },
        {
         "name": "DOLocationID=1",
         "rawType": "float64",
         "type": "float"
        },
        {
         "name": "DOLocationID=10",
         "rawType": "float64",
         "type": "float"
        },
        {
         "name": "DOLocationID=100",
         "rawType": "float64",
         "type": "float"
        },
        {
         "name": "DOLocationID=101",
         "rawType": "float64",
         "type": "float"
        },
        {
         "name": "DOLocationID=102",
         "rawType": "float64",
         "type": "float"
        },
        {
         "name": "DOLocationID=105",
         "rawType": "float64",
         "type": "float"
        },
        {
         "name": "DOLocationID=106",
         "rawType": "float64",
         "type": "float"
        },
        {
         "name": "DOLocationID=107",
         "rawType": "float64",
         "type": "float"
        },
        {
         "name": "DOLocationID=108",
         "rawType": "float64",
         "type": "float"
        },
        {
         "name": "DOLocationID=109",
         "rawType": "float64",
         "type": "float"
        },
        {
         "name": "DOLocationID=11",
         "rawType": "float64",
         "type": "float"
        },
        {
         "name": "DOLocationID=111",
         "rawType": "float64",
         "type": "float"
        },
        {
         "name": "DOLocationID=112",
         "rawType": "float64",
         "type": "float"
        },
        {
         "name": "DOLocationID=113",
         "rawType": "float64",
         "type": "float"
        },
        {
         "name": "DOLocationID=114",
         "rawType": "float64",
         "type": "float"
        },
        {
         "name": "DOLocationID=115",
         "rawType": "float64",
         "type": "float"
        },
        {
         "name": "DOLocationID=116",
         "rawType": "float64",
         "type": "float"
        },
        {
         "name": "DOLocationID=117",
         "rawType": "float64",
         "type": "float"
        },
        {
         "name": "DOLocationID=118",
         "rawType": "float64",
         "type": "float"
        },
        {
         "name": "DOLocationID=119",
         "rawType": "float64",
         "type": "float"
        },
        {
         "name": "DOLocationID=12",
         "rawType": "float64",
         "type": "float"
        },
        {
         "name": "DOLocationID=120",
         "rawType": "float64",
         "type": "float"
        },
        {
         "name": "DOLocationID=121",
         "rawType": "float64",
         "type": "float"
        },
        {
         "name": "DOLocationID=122",
         "rawType": "float64",
         "type": "float"
        },
        {
         "name": "DOLocationID=123",
         "rawType": "float64",
         "type": "float"
        },
        {
         "name": "DOLocationID=124",
         "rawType": "float64",
         "type": "float"
        },
        {
         "name": "DOLocationID=125",
         "rawType": "float64",
         "type": "float"
        },
        {
         "name": "DOLocationID=126",
         "rawType": "float64",
         "type": "float"
        },
        {
         "name": "DOLocationID=127",
         "rawType": "float64",
         "type": "float"
        },
        {
         "name": "DOLocationID=128",
         "rawType": "float64",
         "type": "float"
        },
        {
         "name": "DOLocationID=129",
         "rawType": "float64",
         "type": "float"
        },
        {
         "name": "DOLocationID=13",
         "rawType": "float64",
         "type": "float"
        },
        {
         "name": "DOLocationID=130",
         "rawType": "float64",
         "type": "float"
        },
        {
         "name": "DOLocationID=131",
         "rawType": "float64",
         "type": "float"
        },
        {
         "name": "DOLocationID=132",
         "rawType": "float64",
         "type": "float"
        },
        {
         "name": "DOLocationID=133",
         "rawType": "float64",
         "type": "float"
        },
        {
         "name": "DOLocationID=134",
         "rawType": "float64",
         "type": "float"
        },
        {
         "name": "DOLocationID=135",
         "rawType": "float64",
         "type": "float"
        },
        {
         "name": "DOLocationID=136",
         "rawType": "float64",
         "type": "float"
        },
        {
         "name": "DOLocationID=137",
         "rawType": "float64",
         "type": "float"
        },
        {
         "name": "DOLocationID=138",
         "rawType": "float64",
         "type": "float"
        },
        {
         "name": "DOLocationID=139",
         "rawType": "float64",
         "type": "float"
        },
        {
         "name": "DOLocationID=14",
         "rawType": "float64",
         "type": "float"
        },
        {
         "name": "DOLocationID=140",
         "rawType": "float64",
         "type": "float"
        },
        {
         "name": "DOLocationID=141",
         "rawType": "float64",
         "type": "float"
        },
        {
         "name": "DOLocationID=142",
         "rawType": "float64",
         "type": "float"
        },
        {
         "name": "DOLocationID=143",
         "rawType": "float64",
         "type": "float"
        },
        {
         "name": "DOLocationID=144",
         "rawType": "float64",
         "type": "float"
        },
        {
         "name": "DOLocationID=145",
         "rawType": "float64",
         "type": "float"
        },
        {
         "name": "DOLocationID=146",
         "rawType": "float64",
         "type": "float"
        },
        {
         "name": "DOLocationID=147",
         "rawType": "float64",
         "type": "float"
        },
        {
         "name": "DOLocationID=148",
         "rawType": "float64",
         "type": "float"
        },
        {
         "name": "DOLocationID=149",
         "rawType": "float64",
         "type": "float"
        },
        {
         "name": "DOLocationID=15",
         "rawType": "float64",
         "type": "float"
        },
        {
         "name": "DOLocationID=150",
         "rawType": "float64",
         "type": "float"
        },
        {
         "name": "DOLocationID=151",
         "rawType": "float64",
         "type": "float"
        },
        {
         "name": "DOLocationID=152",
         "rawType": "float64",
         "type": "float"
        },
        {
         "name": "DOLocationID=153",
         "rawType": "float64",
         "type": "float"
        },
        {
         "name": "DOLocationID=154",
         "rawType": "float64",
         "type": "float"
        },
        {
         "name": "DOLocationID=155",
         "rawType": "float64",
         "type": "float"
        },
        {
         "name": "DOLocationID=156",
         "rawType": "float64",
         "type": "float"
        },
        {
         "name": "DOLocationID=157",
         "rawType": "float64",
         "type": "float"
        },
        {
         "name": "DOLocationID=158",
         "rawType": "float64",
         "type": "float"
        },
        {
         "name": "DOLocationID=159",
         "rawType": "float64",
         "type": "float"
        },
        {
         "name": "DOLocationID=16",
         "rawType": "float64",
         "type": "float"
        },
        {
         "name": "DOLocationID=160",
         "rawType": "float64",
         "type": "float"
        },
        {
         "name": "DOLocationID=161",
         "rawType": "float64",
         "type": "float"
        },
        {
         "name": "DOLocationID=162",
         "rawType": "float64",
         "type": "float"
        },
        {
         "name": "DOLocationID=163",
         "rawType": "float64",
         "type": "float"
        },
        {
         "name": "DOLocationID=164",
         "rawType": "float64",
         "type": "float"
        },
        {
         "name": "DOLocationID=165",
         "rawType": "float64",
         "type": "float"
        },
        {
         "name": "DOLocationID=166",
         "rawType": "float64",
         "type": "float"
        },
        {
         "name": "DOLocationID=167",
         "rawType": "float64",
         "type": "float"
        },
        {
         "name": "DOLocationID=168",
         "rawType": "float64",
         "type": "float"
        },
        {
         "name": "DOLocationID=169",
         "rawType": "float64",
         "type": "float"
        },
        {
         "name": "DOLocationID=17",
         "rawType": "float64",
         "type": "float"
        },
        {
         "name": "DOLocationID=170",
         "rawType": "float64",
         "type": "float"
        },
        {
         "name": "DOLocationID=171",
         "rawType": "float64",
         "type": "float"
        },
        {
         "name": "DOLocationID=172",
         "rawType": "float64",
         "type": "float"
        },
        {
         "name": "DOLocationID=173",
         "rawType": "float64",
         "type": "float"
        },
        {
         "name": "DOLocationID=174",
         "rawType": "float64",
         "type": "float"
        },
        {
         "name": "DOLocationID=175",
         "rawType": "float64",
         "type": "float"
        },
        {
         "name": "DOLocationID=176",
         "rawType": "float64",
         "type": "float"
        },
        {
         "name": "DOLocationID=177",
         "rawType": "float64",
         "type": "float"
        },
        {
         "name": "DOLocationID=178",
         "rawType": "float64",
         "type": "float"
        },
        {
         "name": "DOLocationID=179",
         "rawType": "float64",
         "type": "float"
        },
        {
         "name": "DOLocationID=18",
         "rawType": "float64",
         "type": "float"
        },
        {
         "name": "DOLocationID=180",
         "rawType": "float64",
         "type": "float"
        },
        {
         "name": "DOLocationID=181",
         "rawType": "float64",
         "type": "float"
        },
        {
         "name": "DOLocationID=182",
         "rawType": "float64",
         "type": "float"
        },
        {
         "name": "DOLocationID=183",
         "rawType": "float64",
         "type": "float"
        },
        {
         "name": "DOLocationID=184",
         "rawType": "float64",
         "type": "float"
        },
        {
         "name": "DOLocationID=185",
         "rawType": "float64",
         "type": "float"
        },
        {
         "name": "DOLocationID=186",
         "rawType": "float64",
         "type": "float"
        },
        {
         "name": "DOLocationID=187",
         "rawType": "float64",
         "type": "float"
        },
        {
         "name": "DOLocationID=188",
         "rawType": "float64",
         "type": "float"
        },
        {
         "name": "DOLocationID=189",
         "rawType": "float64",
         "type": "float"
        },
        {
         "name": "DOLocationID=19",
         "rawType": "float64",
         "type": "float"
        },
        {
         "name": "DOLocationID=190",
         "rawType": "float64",
         "type": "float"
        },
        {
         "name": "DOLocationID=191",
         "rawType": "float64",
         "type": "float"
        },
        {
         "name": "DOLocationID=192",
         "rawType": "float64",
         "type": "float"
        },
        {
         "name": "DOLocationID=193",
         "rawType": "float64",
         "type": "float"
        },
        {
         "name": "DOLocationID=194",
         "rawType": "float64",
         "type": "float"
        },
        {
         "name": "DOLocationID=195",
         "rawType": "float64",
         "type": "float"
        },
        {
         "name": "DOLocationID=196",
         "rawType": "float64",
         "type": "float"
        },
        {
         "name": "DOLocationID=197",
         "rawType": "float64",
         "type": "float"
        },
        {
         "name": "DOLocationID=198",
         "rawType": "float64",
         "type": "float"
        },
        {
         "name": "DOLocationID=2",
         "rawType": "float64",
         "type": "float"
        },
        {
         "name": "DOLocationID=20",
         "rawType": "float64",
         "type": "float"
        },
        {
         "name": "DOLocationID=200",
         "rawType": "float64",
         "type": "float"
        },
        {
         "name": "DOLocationID=201",
         "rawType": "float64",
         "type": "float"
        },
        {
         "name": "DOLocationID=202",
         "rawType": "float64",
         "type": "float"
        },
        {
         "name": "DOLocationID=203",
         "rawType": "float64",
         "type": "float"
        },
        {
         "name": "DOLocationID=204",
         "rawType": "float64",
         "type": "float"
        },
        {
         "name": "DOLocationID=205",
         "rawType": "float64",
         "type": "float"
        },
        {
         "name": "DOLocationID=206",
         "rawType": "float64",
         "type": "float"
        },
        {
         "name": "DOLocationID=207",
         "rawType": "float64",
         "type": "float"
        },
        {
         "name": "DOLocationID=208",
         "rawType": "float64",
         "type": "float"
        },
        {
         "name": "DOLocationID=209",
         "rawType": "float64",
         "type": "float"
        },
        {
         "name": "DOLocationID=21",
         "rawType": "float64",
         "type": "float"
        },
        {
         "name": "DOLocationID=210",
         "rawType": "float64",
         "type": "float"
        },
        {
         "name": "DOLocationID=211",
         "rawType": "float64",
         "type": "float"
        },
        {
         "name": "DOLocationID=212",
         "rawType": "float64",
         "type": "float"
        },
        {
         "name": "DOLocationID=213",
         "rawType": "float64",
         "type": "float"
        },
        {
         "name": "DOLocationID=214",
         "rawType": "float64",
         "type": "float"
        },
        {
         "name": "DOLocationID=215",
         "rawType": "float64",
         "type": "float"
        },
        {
         "name": "DOLocationID=216",
         "rawType": "float64",
         "type": "float"
        },
        {
         "name": "DOLocationID=217",
         "rawType": "float64",
         "type": "float"
        },
        {
         "name": "DOLocationID=218",
         "rawType": "float64",
         "type": "float"
        },
        {
         "name": "DOLocationID=219",
         "rawType": "float64",
         "type": "float"
        },
        {
         "name": "DOLocationID=22",
         "rawType": "float64",
         "type": "float"
        },
        {
         "name": "DOLocationID=220",
         "rawType": "float64",
         "type": "float"
        },
        {
         "name": "DOLocationID=221",
         "rawType": "float64",
         "type": "float"
        },
        {
         "name": "DOLocationID=222",
         "rawType": "float64",
         "type": "float"
        },
        {
         "name": "DOLocationID=223",
         "rawType": "float64",
         "type": "float"
        },
        {
         "name": "DOLocationID=224",
         "rawType": "float64",
         "type": "float"
        },
        {
         "name": "DOLocationID=225",
         "rawType": "float64",
         "type": "float"
        },
        {
         "name": "DOLocationID=226",
         "rawType": "float64",
         "type": "float"
        },
        {
         "name": "DOLocationID=227",
         "rawType": "float64",
         "type": "float"
        },
        {
         "name": "DOLocationID=228",
         "rawType": "float64",
         "type": "float"
        },
        {
         "name": "DOLocationID=229",
         "rawType": "float64",
         "type": "float"
        },
        {
         "name": "DOLocationID=23",
         "rawType": "float64",
         "type": "float"
        },
        {
         "name": "DOLocationID=230",
         "rawType": "float64",
         "type": "float"
        },
        {
         "name": "DOLocationID=231",
         "rawType": "float64",
         "type": "float"
        },
        {
         "name": "DOLocationID=232",
         "rawType": "float64",
         "type": "float"
        },
        {
         "name": "DOLocationID=233",
         "rawType": "float64",
         "type": "float"
        },
        {
         "name": "DOLocationID=234",
         "rawType": "float64",
         "type": "float"
        },
        {
         "name": "DOLocationID=235",
         "rawType": "float64",
         "type": "float"
        },
        {
         "name": "DOLocationID=236",
         "rawType": "float64",
         "type": "float"
        },
        {
         "name": "DOLocationID=237",
         "rawType": "float64",
         "type": "float"
        },
        {
         "name": "DOLocationID=238",
         "rawType": "float64",
         "type": "float"
        },
        {
         "name": "DOLocationID=239",
         "rawType": "float64",
         "type": "float"
        },
        {
         "name": "DOLocationID=24",
         "rawType": "float64",
         "type": "float"
        },
        {
         "name": "DOLocationID=240",
         "rawType": "float64",
         "type": "float"
        },
        {
         "name": "DOLocationID=241",
         "rawType": "float64",
         "type": "float"
        },
        {
         "name": "DOLocationID=242",
         "rawType": "float64",
         "type": "float"
        },
        {
         "name": "DOLocationID=243",
         "rawType": "float64",
         "type": "float"
        },
        {
         "name": "DOLocationID=244",
         "rawType": "float64",
         "type": "float"
        },
        {
         "name": "DOLocationID=245",
         "rawType": "float64",
         "type": "float"
        },
        {
         "name": "DOLocationID=246",
         "rawType": "float64",
         "type": "float"
        },
        {
         "name": "DOLocationID=247",
         "rawType": "float64",
         "type": "float"
        },
        {
         "name": "DOLocationID=248",
         "rawType": "float64",
         "type": "float"
        },
        {
         "name": "DOLocationID=249",
         "rawType": "float64",
         "type": "float"
        },
        {
         "name": "DOLocationID=25",
         "rawType": "float64",
         "type": "float"
        },
        {
         "name": "DOLocationID=250",
         "rawType": "float64",
         "type": "float"
        },
        {
         "name": "DOLocationID=251",
         "rawType": "float64",
         "type": "float"
        },
        {
         "name": "DOLocationID=252",
         "rawType": "float64",
         "type": "float"
        },
        {
         "name": "DOLocationID=253",
         "rawType": "float64",
         "type": "float"
        },
        {
         "name": "DOLocationID=254",
         "rawType": "float64",
         "type": "float"
        },
        {
         "name": "DOLocationID=255",
         "rawType": "float64",
         "type": "float"
        },
        {
         "name": "DOLocationID=256",
         "rawType": "float64",
         "type": "float"
        },
        {
         "name": "DOLocationID=257",
         "rawType": "float64",
         "type": "float"
        },
        {
         "name": "DOLocationID=258",
         "rawType": "float64",
         "type": "float"
        },
        {
         "name": "DOLocationID=259",
         "rawType": "float64",
         "type": "float"
        },
        {
         "name": "DOLocationID=26",
         "rawType": "float64",
         "type": "float"
        },
        {
         "name": "DOLocationID=260",
         "rawType": "float64",
         "type": "float"
        },
        {
         "name": "DOLocationID=261",
         "rawType": "float64",
         "type": "float"
        },
        {
         "name": "DOLocationID=262",
         "rawType": "float64",
         "type": "float"
        },
        {
         "name": "DOLocationID=263",
         "rawType": "float64",
         "type": "float"
        },
        {
         "name": "DOLocationID=264",
         "rawType": "float64",
         "type": "float"
        },
        {
         "name": "DOLocationID=265",
         "rawType": "float64",
         "type": "float"
        },
        {
         "name": "DOLocationID=27",
         "rawType": "float64",
         "type": "float"
        },
        {
         "name": "DOLocationID=28",
         "rawType": "float64",
         "type": "float"
        },
        {
         "name": "DOLocationID=29",
         "rawType": "float64",
         "type": "float"
        },
        {
         "name": "DOLocationID=3",
         "rawType": "float64",
         "type": "float"
        },
        {
         "name": "DOLocationID=30",
         "rawType": "float64",
         "type": "float"
        },
        {
         "name": "DOLocationID=31",
         "rawType": "float64",
         "type": "float"
        },
        {
         "name": "DOLocationID=32",
         "rawType": "float64",
         "type": "float"
        },
        {
         "name": "DOLocationID=33",
         "rawType": "float64",
         "type": "float"
        },
        {
         "name": "DOLocationID=34",
         "rawType": "float64",
         "type": "float"
        },
        {
         "name": "DOLocationID=35",
         "rawType": "float64",
         "type": "float"
        },
        {
         "name": "DOLocationID=36",
         "rawType": "float64",
         "type": "float"
        },
        {
         "name": "DOLocationID=37",
         "rawType": "float64",
         "type": "float"
        },
        {
         "name": "DOLocationID=38",
         "rawType": "float64",
         "type": "float"
        },
        {
         "name": "DOLocationID=39",
         "rawType": "float64",
         "type": "float"
        },
        {
         "name": "DOLocationID=4",
         "rawType": "float64",
         "type": "float"
        },
        {
         "name": "DOLocationID=40",
         "rawType": "float64",
         "type": "float"
        },
        {
         "name": "DOLocationID=41",
         "rawType": "float64",
         "type": "float"
        },
        {
         "name": "DOLocationID=42",
         "rawType": "float64",
         "type": "float"
        },
        {
         "name": "DOLocationID=43",
         "rawType": "float64",
         "type": "float"
        },
        {
         "name": "DOLocationID=44",
         "rawType": "float64",
         "type": "float"
        },
        {
         "name": "DOLocationID=45",
         "rawType": "float64",
         "type": "float"
        },
        {
         "name": "DOLocationID=46",
         "rawType": "float64",
         "type": "float"
        },
        {
         "name": "DOLocationID=47",
         "rawType": "float64",
         "type": "float"
        },
        {
         "name": "DOLocationID=48",
         "rawType": "float64",
         "type": "float"
        },
        {
         "name": "DOLocationID=49",
         "rawType": "float64",
         "type": "float"
        },
        {
         "name": "DOLocationID=5",
         "rawType": "float64",
         "type": "float"
        },
        {
         "name": "DOLocationID=50",
         "rawType": "float64",
         "type": "float"
        },
        {
         "name": "DOLocationID=51",
         "rawType": "float64",
         "type": "float"
        },
        {
         "name": "DOLocationID=52",
         "rawType": "float64",
         "type": "float"
        },
        {
         "name": "DOLocationID=53",
         "rawType": "float64",
         "type": "float"
        },
        {
         "name": "DOLocationID=54",
         "rawType": "float64",
         "type": "float"
        },
        {
         "name": "DOLocationID=55",
         "rawType": "float64",
         "type": "float"
        },
        {
         "name": "DOLocationID=56",
         "rawType": "float64",
         "type": "float"
        },
        {
         "name": "DOLocationID=57",
         "rawType": "float64",
         "type": "float"
        },
        {
         "name": "DOLocationID=58",
         "rawType": "float64",
         "type": "float"
        },
        {
         "name": "DOLocationID=59",
         "rawType": "float64",
         "type": "float"
        },
        {
         "name": "DOLocationID=6",
         "rawType": "float64",
         "type": "float"
        },
        {
         "name": "DOLocationID=60",
         "rawType": "float64",
         "type": "float"
        },
        {
         "name": "DOLocationID=61",
         "rawType": "float64",
         "type": "float"
        },
        {
         "name": "DOLocationID=62",
         "rawType": "float64",
         "type": "float"
        },
        {
         "name": "DOLocationID=63",
         "rawType": "float64",
         "type": "float"
        },
        {
         "name": "DOLocationID=64",
         "rawType": "float64",
         "type": "float"
        },
        {
         "name": "DOLocationID=65",
         "rawType": "float64",
         "type": "float"
        },
        {
         "name": "DOLocationID=66",
         "rawType": "float64",
         "type": "float"
        },
        {
         "name": "DOLocationID=67",
         "rawType": "float64",
         "type": "float"
        },
        {
         "name": "DOLocationID=68",
         "rawType": "float64",
         "type": "float"
        },
        {
         "name": "DOLocationID=69",
         "rawType": "float64",
         "type": "float"
        },
        {
         "name": "DOLocationID=7",
         "rawType": "float64",
         "type": "float"
        },
        {
         "name": "DOLocationID=70",
         "rawType": "float64",
         "type": "float"
        },
        {
         "name": "DOLocationID=71",
         "rawType": "float64",
         "type": "float"
        },
        {
         "name": "DOLocationID=72",
         "rawType": "float64",
         "type": "float"
        },
        {
         "name": "DOLocationID=73",
         "rawType": "float64",
         "type": "float"
        },
        {
         "name": "DOLocationID=74",
         "rawType": "float64",
         "type": "float"
        },
        {
         "name": "DOLocationID=75",
         "rawType": "float64",
         "type": "float"
        },
        {
         "name": "DOLocationID=76",
         "rawType": "float64",
         "type": "float"
        },
        {
         "name": "DOLocationID=77",
         "rawType": "float64",
         "type": "float"
        },
        {
         "name": "DOLocationID=78",
         "rawType": "float64",
         "type": "float"
        },
        {
         "name": "DOLocationID=79",
         "rawType": "float64",
         "type": "float"
        },
        {
         "name": "DOLocationID=8",
         "rawType": "float64",
         "type": "float"
        },
        {
         "name": "DOLocationID=80",
         "rawType": "float64",
         "type": "float"
        },
        {
         "name": "DOLocationID=81",
         "rawType": "float64",
         "type": "float"
        },
        {
         "name": "DOLocationID=82",
         "rawType": "float64",
         "type": "float"
        },
        {
         "name": "DOLocationID=83",
         "rawType": "float64",
         "type": "float"
        },
        {
         "name": "DOLocationID=84",
         "rawType": "float64",
         "type": "float"
        },
        {
         "name": "DOLocationID=85",
         "rawType": "float64",
         "type": "float"
        },
        {
         "name": "DOLocationID=86",
         "rawType": "float64",
         "type": "float"
        },
        {
         "name": "DOLocationID=87",
         "rawType": "float64",
         "type": "float"
        },
        {
         "name": "DOLocationID=88",
         "rawType": "float64",
         "type": "float"
        },
        {
         "name": "DOLocationID=89",
         "rawType": "float64",
         "type": "float"
        },
        {
         "name": "DOLocationID=9",
         "rawType": "float64",
         "type": "float"
        },
        {
         "name": "DOLocationID=90",
         "rawType": "float64",
         "type": "float"
        },
        {
         "name": "DOLocationID=91",
         "rawType": "float64",
         "type": "float"
        },
        {
         "name": "DOLocationID=92",
         "rawType": "float64",
         "type": "float"
        },
        {
         "name": "DOLocationID=93",
         "rawType": "float64",
         "type": "float"
        },
        {
         "name": "DOLocationID=94",
         "rawType": "float64",
         "type": "float"
        },
        {
         "name": "DOLocationID=95",
         "rawType": "float64",
         "type": "float"
        },
        {
         "name": "DOLocationID=96",
         "rawType": "float64",
         "type": "float"
        },
        {
         "name": "DOLocationID=97",
         "rawType": "float64",
         "type": "float"
        },
        {
         "name": "DOLocationID=98",
         "rawType": "float64",
         "type": "float"
        },
        {
         "name": "DOLocationID=99",
         "rawType": "float64",
         "type": "float"
        },
        {
         "name": "PULocationID=1",
         "rawType": "float64",
         "type": "float"
        },
        {
         "name": "PULocationID=10",
         "rawType": "float64",
         "type": "float"
        },
        {
         "name": "PULocationID=100",
         "rawType": "float64",
         "type": "float"
        },
        {
         "name": "PULocationID=101",
         "rawType": "float64",
         "type": "float"
        },
        {
         "name": "PULocationID=102",
         "rawType": "float64",
         "type": "float"
        },
        {
         "name": "PULocationID=106",
         "rawType": "float64",
         "type": "float"
        },
        {
         "name": "PULocationID=107",
         "rawType": "float64",
         "type": "float"
        },
        {
         "name": "PULocationID=108",
         "rawType": "float64",
         "type": "float"
        },
        {
         "name": "PULocationID=109",
         "rawType": "float64",
         "type": "float"
        },
        {
         "name": "PULocationID=11",
         "rawType": "float64",
         "type": "float"
        },
        {
         "name": "PULocationID=111",
         "rawType": "float64",
         "type": "float"
        },
        {
         "name": "PULocationID=112",
         "rawType": "float64",
         "type": "float"
        },
        {
         "name": "PULocationID=113",
         "rawType": "float64",
         "type": "float"
        },
        {
         "name": "PULocationID=114",
         "rawType": "float64",
         "type": "float"
        },
        {
         "name": "PULocationID=115",
         "rawType": "float64",
         "type": "float"
        },
        {
         "name": "PULocationID=116",
         "rawType": "float64",
         "type": "float"
        },
        {
         "name": "PULocationID=117",
         "rawType": "float64",
         "type": "float"
        },
        {
         "name": "PULocationID=118",
         "rawType": "float64",
         "type": "float"
        },
        {
         "name": "PULocationID=119",
         "rawType": "float64",
         "type": "float"
        },
        {
         "name": "PULocationID=12",
         "rawType": "float64",
         "type": "float"
        },
        {
         "name": "PULocationID=120",
         "rawType": "float64",
         "type": "float"
        },
        {
         "name": "PULocationID=121",
         "rawType": "float64",
         "type": "float"
        },
        {
         "name": "PULocationID=122",
         "rawType": "float64",
         "type": "float"
        },
        {
         "name": "PULocationID=123",
         "rawType": "float64",
         "type": "float"
        },
        {
         "name": "PULocationID=124",
         "rawType": "float64",
         "type": "float"
        },
        {
         "name": "PULocationID=125",
         "rawType": "float64",
         "type": "float"
        },
        {
         "name": "PULocationID=126",
         "rawType": "float64",
         "type": "float"
        },
        {
         "name": "PULocationID=127",
         "rawType": "float64",
         "type": "float"
        },
        {
         "name": "PULocationID=128",
         "rawType": "float64",
         "type": "float"
        },
        {
         "name": "PULocationID=129",
         "rawType": "float64",
         "type": "float"
        },
        {
         "name": "PULocationID=13",
         "rawType": "float64",
         "type": "float"
        },
        {
         "name": "PULocationID=130",
         "rawType": "float64",
         "type": "float"
        },
        {
         "name": "PULocationID=131",
         "rawType": "float64",
         "type": "float"
        },
        {
         "name": "PULocationID=132",
         "rawType": "float64",
         "type": "float"
        },
        {
         "name": "PULocationID=133",
         "rawType": "float64",
         "type": "float"
        },
        {
         "name": "PULocationID=134",
         "rawType": "float64",
         "type": "float"
        },
        {
         "name": "PULocationID=135",
         "rawType": "float64",
         "type": "float"
        },
        {
         "name": "PULocationID=136",
         "rawType": "float64",
         "type": "float"
        },
        {
         "name": "PULocationID=137",
         "rawType": "float64",
         "type": "float"
        },
        {
         "name": "PULocationID=138",
         "rawType": "float64",
         "type": "float"
        },
        {
         "name": "PULocationID=139",
         "rawType": "float64",
         "type": "float"
        },
        {
         "name": "PULocationID=14",
         "rawType": "float64",
         "type": "float"
        },
        {
         "name": "PULocationID=140",
         "rawType": "float64",
         "type": "float"
        },
        {
         "name": "PULocationID=141",
         "rawType": "float64",
         "type": "float"
        },
        {
         "name": "PULocationID=142",
         "rawType": "float64",
         "type": "float"
        },
        {
         "name": "PULocationID=143",
         "rawType": "float64",
         "type": "float"
        },
        {
         "name": "PULocationID=144",
         "rawType": "float64",
         "type": "float"
        },
        {
         "name": "PULocationID=145",
         "rawType": "float64",
         "type": "float"
        },
        {
         "name": "PULocationID=146",
         "rawType": "float64",
         "type": "float"
        },
        {
         "name": "PULocationID=147",
         "rawType": "float64",
         "type": "float"
        },
        {
         "name": "PULocationID=148",
         "rawType": "float64",
         "type": "float"
        },
        {
         "name": "PULocationID=149",
         "rawType": "float64",
         "type": "float"
        },
        {
         "name": "PULocationID=15",
         "rawType": "float64",
         "type": "float"
        },
        {
         "name": "PULocationID=150",
         "rawType": "float64",
         "type": "float"
        },
        {
         "name": "PULocationID=151",
         "rawType": "float64",
         "type": "float"
        },
        {
         "name": "PULocationID=152",
         "rawType": "float64",
         "type": "float"
        },
        {
         "name": "PULocationID=153",
         "rawType": "float64",
         "type": "float"
        },
        {
         "name": "PULocationID=154",
         "rawType": "float64",
         "type": "float"
        },
        {
         "name": "PULocationID=155",
         "rawType": "float64",
         "type": "float"
        },
        {
         "name": "PULocationID=156",
         "rawType": "float64",
         "type": "float"
        },
        {
         "name": "PULocationID=157",
         "rawType": "float64",
         "type": "float"
        },
        {
         "name": "PULocationID=158",
         "rawType": "float64",
         "type": "float"
        },
        {
         "name": "PULocationID=159",
         "rawType": "float64",
         "type": "float"
        },
        {
         "name": "PULocationID=16",
         "rawType": "float64",
         "type": "float"
        },
        {
         "name": "PULocationID=160",
         "rawType": "float64",
         "type": "float"
        },
        {
         "name": "PULocationID=161",
         "rawType": "float64",
         "type": "float"
        },
        {
         "name": "PULocationID=162",
         "rawType": "float64",
         "type": "float"
        },
        {
         "name": "PULocationID=163",
         "rawType": "float64",
         "type": "float"
        },
        {
         "name": "PULocationID=164",
         "rawType": "float64",
         "type": "float"
        },
        {
         "name": "PULocationID=165",
         "rawType": "float64",
         "type": "float"
        },
        {
         "name": "PULocationID=166",
         "rawType": "float64",
         "type": "float"
        },
        {
         "name": "PULocationID=167",
         "rawType": "float64",
         "type": "float"
        },
        {
         "name": "PULocationID=168",
         "rawType": "float64",
         "type": "float"
        },
        {
         "name": "PULocationID=169",
         "rawType": "float64",
         "type": "float"
        },
        {
         "name": "PULocationID=17",
         "rawType": "float64",
         "type": "float"
        },
        {
         "name": "PULocationID=170",
         "rawType": "float64",
         "type": "float"
        },
        {
         "name": "PULocationID=171",
         "rawType": "float64",
         "type": "float"
        },
        {
         "name": "PULocationID=172",
         "rawType": "float64",
         "type": "float"
        },
        {
         "name": "PULocationID=173",
         "rawType": "float64",
         "type": "float"
        },
        {
         "name": "PULocationID=174",
         "rawType": "float64",
         "type": "float"
        },
        {
         "name": "PULocationID=175",
         "rawType": "float64",
         "type": "float"
        },
        {
         "name": "PULocationID=177",
         "rawType": "float64",
         "type": "float"
        },
        {
         "name": "PULocationID=178",
         "rawType": "float64",
         "type": "float"
        },
        {
         "name": "PULocationID=179",
         "rawType": "float64",
         "type": "float"
        },
        {
         "name": "PULocationID=18",
         "rawType": "float64",
         "type": "float"
        },
        {
         "name": "PULocationID=180",
         "rawType": "float64",
         "type": "float"
        },
        {
         "name": "PULocationID=181",
         "rawType": "float64",
         "type": "float"
        },
        {
         "name": "PULocationID=182",
         "rawType": "float64",
         "type": "float"
        },
        {
         "name": "PULocationID=183",
         "rawType": "float64",
         "type": "float"
        },
        {
         "name": "PULocationID=184",
         "rawType": "float64",
         "type": "float"
        },
        {
         "name": "PULocationID=185",
         "rawType": "float64",
         "type": "float"
        },
        {
         "name": "PULocationID=186",
         "rawType": "float64",
         "type": "float"
        },
        {
         "name": "PULocationID=187",
         "rawType": "float64",
         "type": "float"
        },
        {
         "name": "PULocationID=188",
         "rawType": "float64",
         "type": "float"
        },
        {
         "name": "PULocationID=189",
         "rawType": "float64",
         "type": "float"
        },
        {
         "name": "PULocationID=19",
         "rawType": "float64",
         "type": "float"
        },
        {
         "name": "PULocationID=190",
         "rawType": "float64",
         "type": "float"
        },
        {
         "name": "PULocationID=191",
         "rawType": "float64",
         "type": "float"
        },
        {
         "name": "PULocationID=192",
         "rawType": "float64",
         "type": "float"
        },
        {
         "name": "PULocationID=193",
         "rawType": "float64",
         "type": "float"
        },
        {
         "name": "PULocationID=194",
         "rawType": "float64",
         "type": "float"
        },
        {
         "name": "PULocationID=195",
         "rawType": "float64",
         "type": "float"
        },
        {
         "name": "PULocationID=196",
         "rawType": "float64",
         "type": "float"
        },
        {
         "name": "PULocationID=197",
         "rawType": "float64",
         "type": "float"
        },
        {
         "name": "PULocationID=198",
         "rawType": "float64",
         "type": "float"
        },
        {
         "name": "PULocationID=199",
         "rawType": "float64",
         "type": "float"
        },
        {
         "name": "PULocationID=2",
         "rawType": "float64",
         "type": "float"
        },
        {
         "name": "PULocationID=20",
         "rawType": "float64",
         "type": "float"
        },
        {
         "name": "PULocationID=200",
         "rawType": "float64",
         "type": "float"
        },
        {
         "name": "PULocationID=201",
         "rawType": "float64",
         "type": "float"
        },
        {
         "name": "PULocationID=202",
         "rawType": "float64",
         "type": "float"
        },
        {
         "name": "PULocationID=203",
         "rawType": "float64",
         "type": "float"
        },
        {
         "name": "PULocationID=204",
         "rawType": "float64",
         "type": "float"
        },
        {
         "name": "PULocationID=205",
         "rawType": "float64",
         "type": "float"
        },
        {
         "name": "PULocationID=206",
         "rawType": "float64",
         "type": "float"
        },
        {
         "name": "PULocationID=207",
         "rawType": "float64",
         "type": "float"
        },
        {
         "name": "PULocationID=208",
         "rawType": "float64",
         "type": "float"
        },
        {
         "name": "PULocationID=209",
         "rawType": "float64",
         "type": "float"
        },
        {
         "name": "PULocationID=21",
         "rawType": "float64",
         "type": "float"
        },
        {
         "name": "PULocationID=210",
         "rawType": "float64",
         "type": "float"
        },
        {
         "name": "PULocationID=211",
         "rawType": "float64",
         "type": "float"
        },
        {
         "name": "PULocationID=212",
         "rawType": "float64",
         "type": "float"
        },
        {
         "name": "PULocationID=213",
         "rawType": "float64",
         "type": "float"
        },
        {
         "name": "PULocationID=214",
         "rawType": "float64",
         "type": "float"
        },
        {
         "name": "PULocationID=215",
         "rawType": "float64",
         "type": "float"
        },
        {
         "name": "PULocationID=216",
         "rawType": "float64",
         "type": "float"
        },
        {
         "name": "PULocationID=217",
         "rawType": "float64",
         "type": "float"
        },
        {
         "name": "PULocationID=218",
         "rawType": "float64",
         "type": "float"
        },
        {
         "name": "PULocationID=219",
         "rawType": "float64",
         "type": "float"
        },
        {
         "name": "PULocationID=22",
         "rawType": "float64",
         "type": "float"
        },
        {
         "name": "PULocationID=220",
         "rawType": "float64",
         "type": "float"
        },
        {
         "name": "PULocationID=221",
         "rawType": "float64",
         "type": "float"
        },
        {
         "name": "PULocationID=222",
         "rawType": "float64",
         "type": "float"
        },
        {
         "name": "PULocationID=223",
         "rawType": "float64",
         "type": "float"
        },
        {
         "name": "PULocationID=224",
         "rawType": "float64",
         "type": "float"
        },
        {
         "name": "PULocationID=225",
         "rawType": "float64",
         "type": "float"
        },
        {
         "name": "PULocationID=226",
         "rawType": "float64",
         "type": "float"
        },
        {
         "name": "PULocationID=227",
         "rawType": "float64",
         "type": "float"
        },
        {
         "name": "PULocationID=228",
         "rawType": "float64",
         "type": "float"
        },
        {
         "name": "PULocationID=229",
         "rawType": "float64",
         "type": "float"
        },
        {
         "name": "PULocationID=23",
         "rawType": "float64",
         "type": "float"
        },
        {
         "name": "PULocationID=230",
         "rawType": "float64",
         "type": "float"
        },
        {
         "name": "PULocationID=231",
         "rawType": "float64",
         "type": "float"
        },
        {
         "name": "PULocationID=232",
         "rawType": "float64",
         "type": "float"
        },
        {
         "name": "PULocationID=233",
         "rawType": "float64",
         "type": "float"
        },
        {
         "name": "PULocationID=234",
         "rawType": "float64",
         "type": "float"
        },
        {
         "name": "PULocationID=235",
         "rawType": "float64",
         "type": "float"
        },
        {
         "name": "PULocationID=236",
         "rawType": "float64",
         "type": "float"
        },
        {
         "name": "PULocationID=237",
         "rawType": "float64",
         "type": "float"
        },
        {
         "name": "PULocationID=238",
         "rawType": "float64",
         "type": "float"
        },
        {
         "name": "PULocationID=239",
         "rawType": "float64",
         "type": "float"
        },
        {
         "name": "PULocationID=24",
         "rawType": "float64",
         "type": "float"
        },
        {
         "name": "PULocationID=240",
         "rawType": "float64",
         "type": "float"
        },
        {
         "name": "PULocationID=241",
         "rawType": "float64",
         "type": "float"
        },
        {
         "name": "PULocationID=242",
         "rawType": "float64",
         "type": "float"
        },
        {
         "name": "PULocationID=243",
         "rawType": "float64",
         "type": "float"
        },
        {
         "name": "PULocationID=244",
         "rawType": "float64",
         "type": "float"
        },
        {
         "name": "PULocationID=245",
         "rawType": "float64",
         "type": "float"
        },
        {
         "name": "PULocationID=246",
         "rawType": "float64",
         "type": "float"
        },
        {
         "name": "PULocationID=247",
         "rawType": "float64",
         "type": "float"
        },
        {
         "name": "PULocationID=248",
         "rawType": "float64",
         "type": "float"
        },
        {
         "name": "PULocationID=249",
         "rawType": "float64",
         "type": "float"
        },
        {
         "name": "PULocationID=25",
         "rawType": "float64",
         "type": "float"
        },
        {
         "name": "PULocationID=250",
         "rawType": "float64",
         "type": "float"
        },
        {
         "name": "PULocationID=251",
         "rawType": "float64",
         "type": "float"
        },
        {
         "name": "PULocationID=252",
         "rawType": "float64",
         "type": "float"
        },
        {
         "name": "PULocationID=253",
         "rawType": "float64",
         "type": "float"
        },
        {
         "name": "PULocationID=254",
         "rawType": "float64",
         "type": "float"
        },
        {
         "name": "PULocationID=255",
         "rawType": "float64",
         "type": "float"
        },
        {
         "name": "PULocationID=256",
         "rawType": "float64",
         "type": "float"
        },
        {
         "name": "PULocationID=257",
         "rawType": "float64",
         "type": "float"
        },
        {
         "name": "PULocationID=258",
         "rawType": "float64",
         "type": "float"
        },
        {
         "name": "PULocationID=259",
         "rawType": "float64",
         "type": "float"
        },
        {
         "name": "PULocationID=26",
         "rawType": "float64",
         "type": "float"
        },
        {
         "name": "PULocationID=260",
         "rawType": "float64",
         "type": "float"
        },
        {
         "name": "PULocationID=261",
         "rawType": "float64",
         "type": "float"
        },
        {
         "name": "PULocationID=262",
         "rawType": "float64",
         "type": "float"
        },
        {
         "name": "PULocationID=263",
         "rawType": "float64",
         "type": "float"
        },
        {
         "name": "PULocationID=264",
         "rawType": "float64",
         "type": "float"
        },
        {
         "name": "PULocationID=265",
         "rawType": "float64",
         "type": "float"
        },
        {
         "name": "PULocationID=28",
         "rawType": "float64",
         "type": "float"
        },
        {
         "name": "PULocationID=29",
         "rawType": "float64",
         "type": "float"
        },
        {
         "name": "PULocationID=3",
         "rawType": "float64",
         "type": "float"
        },
        {
         "name": "PULocationID=30",
         "rawType": "float64",
         "type": "float"
        },
        {
         "name": "PULocationID=31",
         "rawType": "float64",
         "type": "float"
        },
        {
         "name": "PULocationID=32",
         "rawType": "float64",
         "type": "float"
        },
        {
         "name": "PULocationID=33",
         "rawType": "float64",
         "type": "float"
        },
        {
         "name": "PULocationID=34",
         "rawType": "float64",
         "type": "float"
        },
        {
         "name": "PULocationID=35",
         "rawType": "float64",
         "type": "float"
        },
        {
         "name": "PULocationID=36",
         "rawType": "float64",
         "type": "float"
        },
        {
         "name": "PULocationID=37",
         "rawType": "float64",
         "type": "float"
        },
        {
         "name": "PULocationID=38",
         "rawType": "float64",
         "type": "float"
        },
        {
         "name": "PULocationID=39",
         "rawType": "float64",
         "type": "float"
        },
        {
         "name": "PULocationID=4",
         "rawType": "float64",
         "type": "float"
        },
        {
         "name": "PULocationID=40",
         "rawType": "float64",
         "type": "float"
        },
        {
         "name": "PULocationID=41",
         "rawType": "float64",
         "type": "float"
        },
        {
         "name": "PULocationID=42",
         "rawType": "float64",
         "type": "float"
        },
        {
         "name": "PULocationID=43",
         "rawType": "float64",
         "type": "float"
        },
        {
         "name": "PULocationID=44",
         "rawType": "float64",
         "type": "float"
        },
        {
         "name": "PULocationID=45",
         "rawType": "float64",
         "type": "float"
        },
        {
         "name": "PULocationID=46",
         "rawType": "float64",
         "type": "float"
        },
        {
         "name": "PULocationID=47",
         "rawType": "float64",
         "type": "float"
        },
        {
         "name": "PULocationID=48",
         "rawType": "float64",
         "type": "float"
        },
        {
         "name": "PULocationID=49",
         "rawType": "float64",
         "type": "float"
        },
        {
         "name": "PULocationID=5",
         "rawType": "float64",
         "type": "float"
        },
        {
         "name": "PULocationID=50",
         "rawType": "float64",
         "type": "float"
        },
        {
         "name": "PULocationID=51",
         "rawType": "float64",
         "type": "float"
        },
        {
         "name": "PULocationID=52",
         "rawType": "float64",
         "type": "float"
        },
        {
         "name": "PULocationID=53",
         "rawType": "float64",
         "type": "float"
        },
        {
         "name": "PULocationID=54",
         "rawType": "float64",
         "type": "float"
        },
        {
         "name": "PULocationID=55",
         "rawType": "float64",
         "type": "float"
        },
        {
         "name": "PULocationID=56",
         "rawType": "float64",
         "type": "float"
        },
        {
         "name": "PULocationID=57",
         "rawType": "float64",
         "type": "float"
        },
        {
         "name": "PULocationID=58",
         "rawType": "float64",
         "type": "float"
        },
        {
         "name": "PULocationID=6",
         "rawType": "float64",
         "type": "float"
        },
        {
         "name": "PULocationID=60",
         "rawType": "float64",
         "type": "float"
        },
        {
         "name": "PULocationID=61",
         "rawType": "float64",
         "type": "float"
        },
        {
         "name": "PULocationID=62",
         "rawType": "float64",
         "type": "float"
        },
        {
         "name": "PULocationID=63",
         "rawType": "float64",
         "type": "float"
        },
        {
         "name": "PULocationID=64",
         "rawType": "float64",
         "type": "float"
        },
        {
         "name": "PULocationID=65",
         "rawType": "float64",
         "type": "float"
        },
        {
         "name": "PULocationID=66",
         "rawType": "float64",
         "type": "float"
        },
        {
         "name": "PULocationID=67",
         "rawType": "float64",
         "type": "float"
        },
        {
         "name": "PULocationID=68",
         "rawType": "float64",
         "type": "float"
        },
        {
         "name": "PULocationID=69",
         "rawType": "float64",
         "type": "float"
        },
        {
         "name": "PULocationID=7",
         "rawType": "float64",
         "type": "float"
        },
        {
         "name": "PULocationID=70",
         "rawType": "float64",
         "type": "float"
        },
        {
         "name": "PULocationID=71",
         "rawType": "float64",
         "type": "float"
        },
        {
         "name": "PULocationID=72",
         "rawType": "float64",
         "type": "float"
        },
        {
         "name": "PULocationID=73",
         "rawType": "float64",
         "type": "float"
        },
        {
         "name": "PULocationID=74",
         "rawType": "float64",
         "type": "float"
        },
        {
         "name": "PULocationID=75",
         "rawType": "float64",
         "type": "float"
        },
        {
         "name": "PULocationID=76",
         "rawType": "float64",
         "type": "float"
        },
        {
         "name": "PULocationID=77",
         "rawType": "float64",
         "type": "float"
        },
        {
         "name": "PULocationID=78",
         "rawType": "float64",
         "type": "float"
        },
        {
         "name": "PULocationID=79",
         "rawType": "float64",
         "type": "float"
        },
        {
         "name": "PULocationID=8",
         "rawType": "float64",
         "type": "float"
        },
        {
         "name": "PULocationID=80",
         "rawType": "float64",
         "type": "float"
        },
        {
         "name": "PULocationID=81",
         "rawType": "float64",
         "type": "float"
        },
        {
         "name": "PULocationID=82",
         "rawType": "float64",
         "type": "float"
        },
        {
         "name": "PULocationID=83",
         "rawType": "float64",
         "type": "float"
        },
        {
         "name": "PULocationID=85",
         "rawType": "float64",
         "type": "float"
        },
        {
         "name": "PULocationID=86",
         "rawType": "float64",
         "type": "float"
        },
        {
         "name": "PULocationID=87",
         "rawType": "float64",
         "type": "float"
        },
        {
         "name": "PULocationID=88",
         "rawType": "float64",
         "type": "float"
        },
        {
         "name": "PULocationID=89",
         "rawType": "float64",
         "type": "float"
        },
        {
         "name": "PULocationID=9",
         "rawType": "float64",
         "type": "float"
        },
        {
         "name": "PULocationID=90",
         "rawType": "float64",
         "type": "float"
        },
        {
         "name": "PULocationID=91",
         "rawType": "float64",
         "type": "float"
        },
        {
         "name": "PULocationID=92",
         "rawType": "float64",
         "type": "float"
        },
        {
         "name": "PULocationID=93",
         "rawType": "float64",
         "type": "float"
        },
        {
         "name": "PULocationID=94",
         "rawType": "float64",
         "type": "float"
        },
        {
         "name": "PULocationID=95",
         "rawType": "float64",
         "type": "float"
        },
        {
         "name": "PULocationID=96",
         "rawType": "float64",
         "type": "float"
        },
        {
         "name": "PULocationID=97",
         "rawType": "float64",
         "type": "float"
        },
        {
         "name": "PULocationID=98",
         "rawType": "float64",
         "type": "float"
        },
        {
         "name": "PULocationID=99",
         "rawType": "float64",
         "type": "float"
        }
       ],
       "conversionMethod": "pd.DataFrame",
       "ref": "371129dc-d837-419a-83a2-2dd5e12ac517",
       "rows": [
        [
         "0",
         "0.0",
         "0.0",
         "0.0",
         "0.0",
         "0.0",
         "0.0",
         "0.0",
         "0.0",
         "0.0",
         "0.0",
         "0.0",
         "0.0",
         "0.0",
         "0.0",
         "0.0",
         "0.0",
         "0.0",
         "0.0",
         "0.0",
         "0.0",
         "0.0",
         "0.0",
         "0.0",
         "0.0",
         "0.0",
         "0.0",
         "0.0",
         "0.0",
         "0.0",
         "0.0",
         "0.0",
         "0.0",
         "0.0",
         "0.0",
         "0.0",
         "0.0",
         "0.0",
         "0.0",
         "0.0",
         "0.0",
         "0.0",
         "0.0",
         "0.0",
         "0.0",
         "1.0",
         "0.0",
         "0.0",
         "0.0",
         "0.0",
         "0.0",
         "0.0",
         "0.0",
         "0.0",
         "0.0",
         "0.0",
         "0.0",
         "0.0",
         "0.0",
         "0.0",
         "0.0",
         "0.0",
         "0.0",
         "0.0",
         "0.0",
         "0.0",
         "0.0",
         "0.0",
         "0.0",
         "0.0",
         "0.0",
         "0.0",
         "0.0",
         "0.0",
         "0.0",
         "0.0",
         "0.0",
         "0.0",
         "0.0",
         "0.0",
         "0.0",
         "0.0",
         "0.0",
         "0.0",
         "0.0",
         "0.0",
         "0.0",
         "0.0",
         "0.0",
         "0.0",
         "0.0",
         "0.0",
         "0.0",
         "0.0",
         "0.0",
         "0.0",
         "0.0",
         "0.0",
         "0.0",
         "0.0",
         "0.0",
         "0.0",
         "0.0",
         "0.0",
         "0.0",
         "0.0",
         "0.0",
         "0.0",
         "0.0",
         "0.0",
         "0.0",
         "0.0",
         "0.0",
         "0.0",
         "0.0",
         "0.0",
         "0.0",
         "0.0",
         "0.0",
         "0.0",
         "0.0",
         "0.0",
         "0.0",
         "0.0",
         "0.0",
         "0.0",
         "0.0",
         "0.0",
         "0.0",
         "0.0",
         "0.0",
         "0.0",
         "0.0",
         "0.0",
         "0.0",
         "0.0",
         "0.0",
         "0.0",
         "0.0",
         "0.0",
         "0.0",
         "0.0",
         "0.0",
         "0.0",
         "0.0",
         "0.0",
         "0.0",
         "0.0",
         "0.0",
         "0.0",
         "0.0",
         "0.0",
         "0.0",
         "0.0",
         "0.0",
         "0.0",
         "0.0",
         "0.0",
         "0.0",
         "0.0",
         "0.0",
         "0.0",
         "0.0",
         "0.0",
         "0.0",
         "0.0",
         "0.0",
         "0.0",
         "0.0",
         "0.0",
         "0.0",
         "0.0",
         "0.0",
         "0.0",
         "0.0",
         "0.0",
         "0.0",
         "0.0",
         "0.0",
         "0.0",
         "0.0",
         "0.0",
         "0.0",
         "0.0",
         "0.0",
         "0.0",
         "0.0",
         "0.0",
         "0.0",
         "0.0",
         "0.0",
         "0.0",
         "0.0",
         "0.0",
         "0.0",
         "0.0",
         "0.0",
         "0.0",
         "0.0",
         "0.0",
         "0.0",
         "0.0",
         "0.0",
         "0.0",
         "0.0",
         "0.0",
         "0.0",
         "0.0",
         "0.0",
         "0.0",
         "0.0",
         "0.0",
         "0.0",
         "0.0",
         "0.0",
         "0.0",
         "0.0",
         "0.0",
         "0.0",
         "0.0",
         "0.0",
         "0.0",
         "0.0",
         "0.0",
         "0.0",
         "0.0",
         "0.0",
         "0.0",
         "0.0",
         "0.0",
         "0.0",
         "0.0",
         "0.0",
         "0.0",
         "0.0",
         "0.0",
         "0.0",
         "0.0",
         "0.0",
         "0.0",
         "0.0",
         "0.0",
         "0.0",
         "0.0",
         "0.0",
         "0.0",
         "0.0",
         "0.0",
         "0.0",
         "0.0",
         "0.0",
         "0.0",
         "0.0",
         "0.0",
         "0.0",
         "0.0",
         "0.0",
         "0.0",
         "0.0",
         "0.0",
         "0.0",
         "0.0",
         "0.0",
         "0.0",
         "0.0",
         "0.0",
         "0.0",
         "0.0",
         "0.0",
         "0.0",
         "0.0",
         "0.0",
         "0.0",
         "0.0",
         "0.0",
         "0.0",
         "0.0",
         "0.0",
         "0.0",
         "0.0",
         "0.0",
         "0.0",
         "0.0",
         "0.0",
         "0.0",
         "0.0",
         "0.0",
         "0.0",
         "0.0",
         "0.0",
         "0.0",
         "0.0",
         "0.0",
         "0.0",
         "0.0",
         "0.0",
         "0.0",
         "0.0",
         "0.0",
         "0.0",
         "0.0",
         "0.0",
         "0.0",
         "0.0",
         "0.0",
         "0.0",
         "0.0",
         "0.0",
         "0.0",
         "0.0",
         "0.0",
         "0.0",
         "0.0",
         "0.0",
         "0.0",
         "0.0",
         "0.0",
         "0.0",
         "0.0",
         "0.0",
         "0.0",
         "0.0",
         "0.0",
         "0.0",
         "0.0",
         "0.0",
         "0.0",
         "1.0",
         "0.0",
         "0.0",
         "0.0",
         "0.0",
         "0.0",
         "0.0",
         "0.0",
         "0.0",
         "0.0",
         "0.0",
         "0.0",
         "0.0",
         "0.0",
         "0.0",
         "0.0",
         "0.0",
         "0.0",
         "0.0",
         "0.0",
         "0.0",
         "0.0",
         "0.0",
         "0.0",
         "0.0",
         "0.0",
         "0.0",
         "0.0",
         "0.0",
         "0.0",
         "0.0",
         "0.0",
         "0.0",
         "0.0",
         "0.0",
         "0.0",
         "0.0",
         "0.0",
         "0.0",
         "0.0",
         "0.0",
         "0.0",
         "0.0",
         "0.0",
         "0.0",
         "0.0",
         "0.0",
         "0.0",
         "0.0",
         "0.0",
         "0.0",
         "0.0",
         "0.0",
         "0.0",
         "0.0",
         "0.0",
         "0.0",
         "0.0",
         "0.0",
         "0.0",
         "0.0",
         "0.0",
         "0.0",
         "0.0",
         "0.0",
         "0.0",
         "0.0",
         "0.0",
         "0.0",
         "0.0",
         "0.0",
         "0.0",
         "0.0",
         "0.0",
         "0.0",
         "0.0",
         "0.0",
         "0.0",
         "0.0",
         "0.0",
         "0.0",
         "0.0",
         "0.0",
         "0.0",
         "0.0",
         "0.0",
         "0.0",
         "0.0",
         "0.0",
         "0.0",
         "0.0",
         "0.0",
         "0.0",
         "0.0",
         "0.0",
         "0.0",
         "0.0",
         "0.0",
         "0.0",
         "0.0",
         "0.0",
         "0.0",
         "0.0",
         "0.0",
         "0.0",
         "0.0",
         "0.0",
         "0.0",
         "0.0",
         "0.0",
         "0.0",
         "0.0",
         "0.0",
         "0.0",
         "0.0",
         "0.0",
         "0.0",
         "0.0",
         "0.0",
         "0.0",
         "0.0",
         "0.0",
         "0.0",
         "0.0",
         "0.0",
         "0.0",
         "0.0",
         "0.0",
         "0.0",
         "0.0",
         "0.0",
         "0.0",
         "0.0",
         "0.0",
         "0.0",
         "0.0",
         "0.0",
         "0.0",
         "0.0",
         "0.0",
         "0.0",
         "0.0",
         "0.0",
         "0.0",
         "0.0",
         "0.0",
         "0.0",
         "0.0",
         "0.0",
         "0.0",
         "0.0",
         "0.0",
         "0.0",
         "0.0",
         "0.0",
         "0.0",
         "0.0",
         "0.0",
         "0.0",
         "0.0",
         "0.0",
         "0.0",
         "0.0",
         "0.0",
         "0.0",
         "0.0",
         "0.0",
         "0.0",
         "0.0",
         "0.0",
         "0.0",
         "0.0",
         "0.0",
         "0.0",
         "0.0",
         "0.0",
         "0.0",
         "0.0",
         "0.0",
         "0.0",
         "0.0",
         "0.0",
         "0.0",
         "0.0",
         "0.0",
         "0.0",
         "0.0",
         "0.0",
         "0.0",
         "0.0",
         "0.0",
         "0.0"
        ],
        [
         "1",
         "0.0",
         "0.0",
         "0.0",
         "0.0",
         "0.0",
         "0.0",
         "0.0",
         "0.0",
         "0.0",
         "0.0",
         "0.0",
         "0.0",
         "0.0",
         "0.0",
         "0.0",
         "0.0",
         "0.0",
         "0.0",
         "0.0",
         "0.0",
         "0.0",
         "0.0",
         "0.0",
         "0.0",
         "0.0",
         "0.0",
         "0.0",
         "0.0",
         "0.0",
         "0.0",
         "0.0",
         "0.0",
         "0.0",
         "0.0",
         "0.0",
         "0.0",
         "0.0",
         "0.0",
         "0.0",
         "0.0",
         "0.0",
         "0.0",
         "0.0",
         "0.0",
         "0.0",
         "0.0",
         "0.0",
         "0.0",
         "0.0",
         "0.0",
         "0.0",
         "0.0",
         "0.0",
         "0.0",
         "0.0",
         "0.0",
         "0.0",
         "0.0",
         "0.0",
         "0.0",
         "0.0",
         "0.0",
         "0.0",
         "0.0",
         "0.0",
         "0.0",
         "0.0",
         "0.0",
         "0.0",
         "0.0",
         "0.0",
         "0.0",
         "0.0",
         "0.0",
         "0.0",
         "0.0",
         "0.0",
         "0.0",
         "0.0",
         "0.0",
         "0.0",
         "0.0",
         "0.0",
         "0.0",
         "0.0",
         "0.0",
         "0.0",
         "0.0",
         "0.0",
         "0.0",
         "0.0",
         "0.0",
         "0.0",
         "0.0",
         "0.0",
         "0.0",
         "0.0",
         "0.0",
         "0.0",
         "0.0",
         "0.0",
         "0.0",
         "0.0",
         "0.0",
         "0.0",
         "0.0",
         "0.0",
         "0.0",
         "0.0",
         "0.0",
         "0.0",
         "0.0",
         "0.0",
         "0.0",
         "0.0",
         "0.0",
         "0.0",
         "0.0",
         "0.0",
         "0.0",
         "0.0",
         "0.0",
         "0.0",
         "0.0",
         "0.0",
         "0.0",
         "0.0",
         "0.0",
         "0.0",
         "0.0",
         "0.0",
         "0.0",
         "0.0",
         "0.0",
         "0.0",
         "0.0",
         "0.0",
         "0.0",
         "0.0",
         "0.0",
         "0.0",
         "0.0",
         "0.0",
         "0.0",
         "0.0",
         "0.0",
         "0.0",
         "0.0",
         "0.0",
         "1.0",
         "0.0",
         "0.0",
         "0.0",
         "0.0",
         "0.0",
         "0.0",
         "0.0",
         "0.0",
         "0.0",
         "0.0",
         "0.0",
         "0.0",
         "0.0",
         "0.0",
         "0.0",
         "0.0",
         "0.0",
         "0.0",
         "0.0",
         "0.0",
         "0.0",
         "0.0",
         "0.0",
         "0.0",
         "0.0",
         "0.0",
         "0.0",
         "0.0",
         "0.0",
         "0.0",
         "0.0",
         "0.0",
         "0.0",
         "0.0",
         "0.0",
         "0.0",
         "0.0",
         "0.0",
         "0.0",
         "0.0",
         "0.0",
         "0.0",
         "0.0",
         "0.0",
         "0.0",
         "0.0",
         "0.0",
         "0.0",
         "0.0",
         "0.0",
         "0.0",
         "0.0",
         "0.0",
         "0.0",
         "0.0",
         "0.0",
         "0.0",
         "0.0",
         "0.0",
         "0.0",
         "0.0",
         "0.0",
         "0.0",
         "0.0",
         "0.0",
         "0.0",
         "0.0",
         "0.0",
         "0.0",
         "0.0",
         "0.0",
         "0.0",
         "0.0",
         "0.0",
         "0.0",
         "0.0",
         "0.0",
         "0.0",
         "0.0",
         "0.0",
         "0.0",
         "0.0",
         "0.0",
         "0.0",
         "0.0",
         "0.0",
         "0.0",
         "0.0",
         "0.0",
         "0.0",
         "0.0",
         "0.0",
         "0.0",
         "0.0",
         "0.0",
         "0.0",
         "0.0",
         "0.0",
         "0.0",
         "0.0",
         "0.0",
         "0.0",
         "0.0",
         "0.0",
         "0.0",
         "0.0",
         "0.0",
         "0.0",
         "0.0",
         "0.0",
         "0.0",
         "0.0",
         "0.0",
         "0.0",
         "0.0",
         "0.0",
         "0.0",
         "0.0",
         "0.0",
         "0.0",
         "0.0",
         "0.0",
         "0.0",
         "0.0",
         "0.0",
         "0.0",
         "0.0",
         "0.0",
         "0.0",
         "0.0",
         "0.0",
         "0.0",
         "0.0",
         "0.0",
         "0.0",
         "0.0",
         "0.0",
         "0.0",
         "0.0",
         "0.0",
         "0.0",
         "0.0",
         "0.0",
         "0.0",
         "0.0",
         "0.0",
         "0.0",
         "0.0",
         "0.0",
         "0.0",
         "0.0",
         "0.0",
         "0.0",
         "0.0",
         "0.0",
         "0.0",
         "0.0",
         "0.0",
         "0.0",
         "0.0",
         "0.0",
         "0.0",
         "0.0",
         "0.0",
         "0.0",
         "0.0",
         "0.0",
         "0.0",
         "0.0",
         "0.0",
         "0.0",
         "0.0",
         "0.0",
         "0.0",
         "0.0",
         "0.0",
         "0.0",
         "0.0",
         "0.0",
         "0.0",
         "0.0",
         "0.0",
         "0.0",
         "0.0",
         "0.0",
         "0.0",
         "0.0",
         "0.0",
         "0.0",
         "0.0",
         "0.0",
         "0.0",
         "0.0",
         "0.0",
         "0.0",
         "0.0",
         "0.0",
         "0.0",
         "0.0",
         "0.0",
         "0.0",
         "0.0",
         "0.0",
         "0.0",
         "0.0",
         "0.0",
         "0.0",
         "0.0",
         "0.0",
         "0.0",
         "0.0",
         "0.0",
         "0.0",
         "0.0",
         "0.0",
         "0.0",
         "0.0",
         "0.0",
         "0.0",
         "0.0",
         "0.0",
         "0.0",
         "0.0",
         "0.0",
         "0.0",
         "0.0",
         "0.0",
         "0.0",
         "0.0",
         "0.0",
         "0.0",
         "0.0",
         "0.0",
         "0.0",
         "0.0",
         "0.0",
         "0.0",
         "0.0",
         "0.0",
         "0.0",
         "0.0",
         "0.0",
         "0.0",
         "0.0",
         "0.0",
         "0.0",
         "0.0",
         "0.0",
         "0.0",
         "0.0",
         "0.0",
         "0.0",
         "0.0",
         "0.0",
         "0.0",
         "0.0",
         "0.0",
         "0.0",
         "0.0",
         "0.0",
         "0.0",
         "0.0",
         "0.0",
         "0.0",
         "0.0",
         "0.0",
         "0.0",
         "0.0",
         "0.0",
         "0.0",
         "0.0",
         "0.0",
         "0.0",
         "0.0",
         "0.0",
         "0.0",
         "0.0",
         "0.0",
         "0.0",
         "0.0",
         "0.0",
         "0.0",
         "0.0",
         "0.0",
         "0.0",
         "0.0",
         "0.0",
         "0.0",
         "0.0",
         "0.0",
         "0.0",
         "0.0",
         "0.0",
         "0.0",
         "0.0",
         "0.0",
         "0.0",
         "0.0",
         "0.0",
         "0.0",
         "0.0",
         "0.0",
         "0.0",
         "0.0",
         "0.0",
         "0.0",
         "0.0",
         "0.0",
         "1.0",
         "0.0",
         "0.0",
         "0.0",
         "0.0",
         "0.0",
         "0.0",
         "0.0",
         "0.0",
         "0.0",
         "0.0",
         "0.0",
         "0.0",
         "0.0",
         "0.0",
         "0.0",
         "0.0",
         "0.0",
         "0.0",
         "0.0",
         "0.0",
         "0.0",
         "0.0",
         "0.0",
         "0.0",
         "0.0",
         "0.0",
         "0.0",
         "0.0",
         "0.0",
         "0.0",
         "0.0",
         "0.0",
         "0.0",
         "0.0",
         "0.0",
         "0.0",
         "0.0",
         "0.0",
         "0.0",
         "0.0",
         "0.0",
         "0.0",
         "0.0",
         "0.0",
         "0.0",
         "0.0",
         "0.0",
         "0.0",
         "0.0",
         "0.0",
         "0.0",
         "0.0",
         "0.0",
         "0.0",
         "0.0",
         "0.0",
         "0.0",
         "0.0",
         "0.0"
        ],
        [
         "2",
         "0.0",
         "0.0",
         "0.0",
         "0.0",
         "0.0",
         "0.0",
         "0.0",
         "0.0",
         "0.0",
         "0.0",
         "0.0",
         "0.0",
         "0.0",
         "0.0",
         "0.0",
         "0.0",
         "0.0",
         "0.0",
         "0.0",
         "0.0",
         "0.0",
         "0.0",
         "0.0",
         "0.0",
         "0.0",
         "0.0",
         "0.0",
         "0.0",
         "0.0",
         "0.0",
         "0.0",
         "0.0",
         "0.0",
         "0.0",
         "0.0",
         "0.0",
         "0.0",
         "0.0",
         "0.0",
         "0.0",
         "0.0",
         "0.0",
         "0.0",
         "0.0",
         "0.0",
         "0.0",
         "0.0",
         "0.0",
         "0.0",
         "0.0",
         "0.0",
         "0.0",
         "0.0",
         "0.0",
         "0.0",
         "0.0",
         "0.0",
         "0.0",
         "0.0",
         "0.0",
         "0.0",
         "0.0",
         "0.0",
         "0.0",
         "0.0",
         "0.0",
         "0.0",
         "0.0",
         "0.0",
         "0.0",
         "0.0",
         "0.0",
         "0.0",
         "0.0",
         "0.0",
         "0.0",
         "0.0",
         "0.0",
         "0.0",
         "0.0",
         "0.0",
         "0.0",
         "0.0",
         "0.0",
         "0.0",
         "0.0",
         "0.0",
         "0.0",
         "0.0",
         "0.0",
         "0.0",
         "0.0",
         "0.0",
         "0.0",
         "0.0",
         "0.0",
         "0.0",
         "0.0",
         "0.0",
         "0.0",
         "0.0",
         "0.0",
         "0.0",
         "0.0",
         "0.0",
         "0.0",
         "0.0",
         "0.0",
         "0.0",
         "0.0",
         "0.0",
         "0.0",
         "0.0",
         "0.0",
         "0.0",
         "0.0",
         "0.0",
         "0.0",
         "0.0",
         "0.0",
         "0.0",
         "0.0",
         "0.0",
         "0.0",
         "0.0",
         "0.0",
         "0.0",
         "0.0",
         "0.0",
         "0.0",
         "0.0",
         "0.0",
         "0.0",
         "0.0",
         "0.0",
         "0.0",
         "0.0",
         "0.0",
         "0.0",
         "0.0",
         "0.0",
         "0.0",
         "0.0",
         "0.0",
         "0.0",
         "0.0",
         "0.0",
         "0.0",
         "0.0",
         "0.0",
         "1.0",
         "0.0",
         "0.0",
         "0.0",
         "0.0",
         "0.0",
         "0.0",
         "0.0",
         "0.0",
         "0.0",
         "0.0",
         "0.0",
         "0.0",
         "0.0",
         "0.0",
         "0.0",
         "0.0",
         "0.0",
         "0.0",
         "0.0",
         "0.0",
         "0.0",
         "0.0",
         "0.0",
         "0.0",
         "0.0",
         "0.0",
         "0.0",
         "0.0",
         "0.0",
         "0.0",
         "0.0",
         "0.0",
         "0.0",
         "0.0",
         "0.0",
         "0.0",
         "0.0",
         "0.0",
         "0.0",
         "0.0",
         "0.0",
         "0.0",
         "0.0",
         "0.0",
         "0.0",
         "0.0",
         "0.0",
         "0.0",
         "0.0",
         "0.0",
         "0.0",
         "0.0",
         "0.0",
         "0.0",
         "0.0",
         "0.0",
         "0.0",
         "0.0",
         "0.0",
         "0.0",
         "0.0",
         "0.0",
         "0.0",
         "0.0",
         "0.0",
         "0.0",
         "0.0",
         "0.0",
         "0.0",
         "0.0",
         "0.0",
         "0.0",
         "0.0",
         "0.0",
         "0.0",
         "0.0",
         "0.0",
         "0.0",
         "0.0",
         "0.0",
         "0.0",
         "0.0",
         "0.0",
         "0.0",
         "0.0",
         "0.0",
         "0.0",
         "0.0",
         "0.0",
         "0.0",
         "0.0",
         "0.0",
         "0.0",
         "0.0",
         "0.0",
         "0.0",
         "0.0",
         "0.0",
         "0.0",
         "0.0",
         "0.0",
         "0.0",
         "0.0",
         "0.0",
         "0.0",
         "0.0",
         "0.0",
         "0.0",
         "0.0",
         "0.0",
         "0.0",
         "0.0",
         "0.0",
         "0.0",
         "0.0",
         "0.0",
         "0.0",
         "0.0",
         "0.0",
         "0.0",
         "0.0",
         "0.0",
         "0.0",
         "0.0",
         "0.0",
         "0.0",
         "0.0",
         "0.0",
         "0.0",
         "0.0",
         "0.0",
         "0.0",
         "0.0",
         "0.0",
         "0.0",
         "0.0",
         "0.0",
         "0.0",
         "0.0",
         "0.0",
         "0.0",
         "0.0",
         "0.0",
         "0.0",
         "0.0",
         "0.0",
         "0.0",
         "0.0",
         "0.0",
         "0.0",
         "0.0",
         "0.0",
         "0.0",
         "0.0",
         "0.0",
         "0.0",
         "0.0",
         "0.0",
         "0.0",
         "0.0",
         "0.0",
         "0.0",
         "0.0",
         "0.0",
         "0.0",
         "0.0",
         "0.0",
         "0.0",
         "0.0",
         "0.0",
         "0.0",
         "0.0",
         "0.0",
         "0.0",
         "0.0",
         "0.0",
         "0.0",
         "0.0",
         "0.0",
         "0.0",
         "0.0",
         "0.0",
         "0.0",
         "0.0",
         "0.0",
         "0.0",
         "0.0",
         "0.0",
         "0.0",
         "0.0",
         "0.0",
         "0.0",
         "0.0",
         "0.0",
         "0.0",
         "0.0",
         "0.0",
         "0.0",
         "0.0",
         "0.0",
         "0.0",
         "0.0",
         "0.0",
         "0.0",
         "0.0",
         "0.0",
         "0.0",
         "0.0",
         "0.0",
         "0.0",
         "0.0",
         "0.0",
         "0.0",
         "0.0",
         "0.0",
         "0.0",
         "0.0",
         "0.0",
         "0.0",
         "0.0",
         "0.0",
         "0.0",
         "0.0",
         "0.0",
         "0.0",
         "0.0",
         "0.0",
         "0.0",
         "0.0",
         "0.0",
         "0.0",
         "0.0",
         "0.0",
         "0.0",
         "0.0",
         "0.0",
         "0.0",
         "0.0",
         "0.0",
         "0.0",
         "0.0",
         "0.0",
         "0.0",
         "0.0",
         "0.0",
         "0.0",
         "0.0",
         "0.0",
         "0.0",
         "0.0",
         "0.0",
         "0.0",
         "0.0",
         "0.0",
         "0.0",
         "0.0",
         "0.0",
         "0.0",
         "0.0",
         "0.0",
         "0.0",
         "0.0",
         "0.0",
         "0.0",
         "0.0",
         "0.0",
         "0.0",
         "0.0",
         "0.0",
         "0.0",
         "0.0",
         "0.0",
         "0.0",
         "0.0",
         "0.0",
         "0.0",
         "0.0",
         "0.0",
         "0.0",
         "0.0",
         "0.0",
         "0.0",
         "0.0",
         "0.0",
         "0.0",
         "0.0",
         "0.0",
         "0.0",
         "0.0",
         "0.0",
         "0.0",
         "0.0",
         "0.0",
         "0.0",
         "0.0",
         "0.0",
         "0.0",
         "0.0",
         "0.0",
         "0.0",
         "0.0",
         "0.0",
         "0.0",
         "0.0",
         "0.0",
         "0.0",
         "0.0",
         "0.0",
         "0.0",
         "0.0",
         "0.0",
         "0.0",
         "1.0",
         "0.0",
         "0.0",
         "0.0",
         "0.0",
         "0.0",
         "0.0",
         "0.0",
         "0.0",
         "0.0",
         "0.0",
         "0.0",
         "0.0",
         "0.0",
         "0.0",
         "0.0",
         "0.0",
         "0.0",
         "0.0",
         "0.0",
         "0.0",
         "0.0",
         "0.0",
         "0.0",
         "0.0",
         "0.0",
         "0.0",
         "0.0",
         "0.0",
         "0.0",
         "0.0",
         "0.0",
         "0.0",
         "0.0",
         "0.0",
         "0.0",
         "0.0",
         "0.0",
         "0.0",
         "0.0",
         "0.0",
         "0.0",
         "0.0",
         "0.0",
         "0.0",
         "0.0",
         "0.0",
         "0.0",
         "0.0",
         "0.0",
         "0.0",
         "0.0",
         "0.0",
         "0.0",
         "0.0"
        ],
        [
         "3",
         "0.0",
         "0.0",
         "0.0",
         "0.0",
         "0.0",
         "0.0",
         "0.0",
         "0.0",
         "0.0",
         "0.0",
         "0.0",
         "0.0",
         "0.0",
         "0.0",
         "0.0",
         "0.0",
         "0.0",
         "0.0",
         "0.0",
         "0.0",
         "0.0",
         "0.0",
         "0.0",
         "0.0",
         "0.0",
         "0.0",
         "0.0",
         "0.0",
         "0.0",
         "0.0",
         "0.0",
         "0.0",
         "0.0",
         "0.0",
         "0.0",
         "0.0",
         "0.0",
         "0.0",
         "0.0",
         "0.0",
         "0.0",
         "0.0",
         "0.0",
         "0.0",
         "0.0",
         "0.0",
         "0.0",
         "0.0",
         "0.0",
         "0.0",
         "0.0",
         "0.0",
         "0.0",
         "0.0",
         "0.0",
         "0.0",
         "0.0",
         "0.0",
         "0.0",
         "0.0",
         "0.0",
         "0.0",
         "0.0",
         "0.0",
         "0.0",
         "0.0",
         "0.0",
         "0.0",
         "0.0",
         "0.0",
         "0.0",
         "0.0",
         "0.0",
         "0.0",
         "0.0",
         "0.0",
         "0.0",
         "0.0",
         "0.0",
         "0.0",
         "0.0",
         "0.0",
         "0.0",
         "0.0",
         "0.0",
         "0.0",
         "0.0",
         "0.0",
         "0.0",
         "0.0",
         "0.0",
         "0.0",
         "0.0",
         "0.0",
         "0.0",
         "0.0",
         "0.0",
         "0.0",
         "0.0",
         "0.0",
         "0.0",
         "0.0",
         "0.0",
         "0.0",
         "0.0",
         "0.0",
         "0.0",
         "0.0",
         "0.0",
         "0.0",
         "0.0",
         "0.0",
         "0.0",
         "0.0",
         "0.0",
         "0.0",
         "0.0",
         "0.0",
         "0.0",
         "0.0",
         "0.0",
         "0.0",
         "0.0",
         "0.0",
         "0.0",
         "0.0",
         "0.0",
         "0.0",
         "0.0",
         "0.0",
         "0.0",
         "0.0",
         "0.0",
         "0.0",
         "0.0",
         "0.0",
         "0.0",
         "0.0",
         "0.0",
         "0.0",
         "0.0",
         "0.0",
         "0.0",
         "0.0",
         "0.0",
         "0.0",
         "0.0",
         "0.0",
         "0.0",
         "0.0",
         "0.0",
         "0.0",
         "0.0",
         "0.0",
         "0.0",
         "0.0",
         "0.0",
         "0.0",
         "0.0",
         "0.0",
         "0.0",
         "0.0",
         "0.0",
         "0.0",
         "0.0",
         "0.0",
         "0.0",
         "0.0",
         "0.0",
         "0.0",
         "0.0",
         "0.0",
         "0.0",
         "0.0",
         "0.0",
         "0.0",
         "0.0",
         "0.0",
         "0.0",
         "0.0",
         "0.0",
         "0.0",
         "0.0",
         "0.0",
         "0.0",
         "0.0",
         "0.0",
         "0.0",
         "0.0",
         "0.0",
         "0.0",
         "0.0",
         "0.0",
         "0.0",
         "0.0",
         "0.0",
         "0.0",
         "0.0",
         "0.0",
         "0.0",
         "0.0",
         "0.0",
         "0.0",
         "0.0",
         "0.0",
         "0.0",
         "0.0",
         "0.0",
         "0.0",
         "0.0",
         "0.0",
         "0.0",
         "0.0",
         "0.0",
         "0.0",
         "0.0",
         "0.0",
         "0.0",
         "0.0",
         "0.0",
         "0.0",
         "0.0",
         "0.0",
         "0.0",
         "0.0",
         "0.0",
         "0.0",
         "0.0",
         "1.0",
         "0.0",
         "0.0",
         "0.0",
         "0.0",
         "0.0",
         "0.0",
         "0.0",
         "0.0",
         "0.0",
         "0.0",
         "0.0",
         "0.0",
         "0.0",
         "0.0",
         "0.0",
         "0.0",
         "0.0",
         "0.0",
         "0.0",
         "0.0",
         "0.0",
         "0.0",
         "0.0",
         "0.0",
         "0.0",
         "0.0",
         "0.0",
         "0.0",
         "0.0",
         "0.0",
         "0.0",
         "0.0",
         "0.0",
         "0.0",
         "0.0",
         "0.0",
         "0.0",
         "0.0",
         "0.0",
         "0.0",
         "0.0",
         "0.0",
         "0.0",
         "0.0",
         "0.0",
         "0.0",
         "0.0",
         "0.0",
         "0.0",
         "0.0",
         "0.0",
         "0.0",
         "0.0",
         "0.0",
         "0.0",
         "0.0",
         "0.0",
         "0.0",
         "0.0",
         "0.0",
         "0.0",
         "0.0",
         "0.0",
         "0.0",
         "0.0",
         "0.0",
         "0.0",
         "0.0",
         "0.0",
         "0.0",
         "0.0",
         "1.0",
         "0.0",
         "0.0",
         "0.0",
         "0.0",
         "0.0",
         "0.0",
         "0.0",
         "0.0",
         "0.0",
         "0.0",
         "0.0",
         "0.0",
         "0.0",
         "0.0",
         "0.0",
         "0.0",
         "0.0",
         "0.0",
         "0.0",
         "0.0",
         "0.0",
         "0.0",
         "0.0",
         "0.0",
         "0.0",
         "0.0",
         "0.0",
         "0.0",
         "0.0",
         "0.0",
         "0.0",
         "0.0",
         "0.0",
         "0.0",
         "0.0",
         "0.0",
         "0.0",
         "0.0",
         "0.0",
         "0.0",
         "0.0",
         "0.0",
         "0.0",
         "0.0",
         "0.0",
         "0.0",
         "0.0",
         "0.0",
         "0.0",
         "0.0",
         "0.0",
         "0.0",
         "0.0",
         "0.0",
         "0.0",
         "0.0",
         "0.0",
         "0.0",
         "0.0",
         "0.0",
         "0.0",
         "0.0",
         "0.0",
         "0.0",
         "0.0",
         "0.0",
         "0.0",
         "0.0",
         "0.0",
         "0.0",
         "0.0",
         "0.0",
         "0.0",
         "0.0",
         "0.0",
         "0.0",
         "0.0",
         "0.0",
         "0.0",
         "0.0",
         "0.0",
         "0.0",
         "0.0",
         "0.0",
         "0.0",
         "0.0",
         "0.0",
         "0.0",
         "0.0",
         "0.0",
         "0.0",
         "0.0",
         "0.0",
         "0.0",
         "0.0",
         "0.0",
         "0.0",
         "0.0",
         "0.0",
         "0.0",
         "0.0",
         "0.0",
         "0.0",
         "0.0",
         "0.0",
         "0.0",
         "0.0",
         "0.0",
         "0.0",
         "0.0",
         "0.0",
         "0.0",
         "0.0",
         "0.0",
         "0.0",
         "0.0",
         "0.0",
         "0.0",
         "0.0",
         "0.0",
         "0.0",
         "0.0",
         "0.0",
         "0.0",
         "0.0",
         "0.0",
         "0.0",
         "0.0",
         "0.0",
         "0.0",
         "0.0",
         "0.0",
         "0.0",
         "0.0",
         "0.0",
         "0.0",
         "0.0",
         "0.0",
         "0.0",
         "0.0",
         "0.0",
         "0.0",
         "0.0",
         "0.0",
         "0.0",
         "0.0",
         "0.0",
         "0.0",
         "0.0",
         "0.0",
         "0.0",
         "0.0",
         "0.0",
         "0.0",
         "0.0",
         "0.0",
         "0.0",
         "0.0",
         "0.0",
         "0.0",
         "0.0",
         "0.0",
         "0.0",
         "0.0",
         "0.0",
         "0.0",
         "0.0",
         "0.0",
         "0.0",
         "0.0",
         "0.0",
         "0.0",
         "0.0",
         "0.0",
         "0.0",
         "0.0",
         "0.0",
         "0.0",
         "0.0",
         "0.0",
         "0.0",
         "0.0",
         "0.0",
         "0.0",
         "0.0",
         "0.0",
         "0.0",
         "0.0",
         "0.0",
         "0.0",
         "0.0",
         "0.0",
         "0.0",
         "0.0",
         "0.0",
         "0.0",
         "0.0",
         "0.0",
         "0.0",
         "0.0",
         "0.0",
         "0.0",
         "0.0",
         "0.0",
         "0.0",
         "0.0",
         "0.0",
         "0.0",
         "0.0",
         "0.0",
         "0.0",
         "0.0",
         "0.0",
         "0.0",
         "0.0",
         "0.0",
         "0.0"
        ],
        [
         "4",
         "0.0",
         "0.0",
         "0.0",
         "0.0",
         "0.0",
         "0.0",
         "0.0",
         "0.0",
         "0.0",
         "0.0",
         "0.0",
         "0.0",
         "0.0",
         "0.0",
         "0.0",
         "0.0",
         "0.0",
         "0.0",
         "0.0",
         "0.0",
         "0.0",
         "0.0",
         "0.0",
         "0.0",
         "0.0",
         "0.0",
         "0.0",
         "0.0",
         "0.0",
         "0.0",
         "0.0",
         "0.0",
         "0.0",
         "0.0",
         "0.0",
         "0.0",
         "0.0",
         "0.0",
         "0.0",
         "0.0",
         "0.0",
         "0.0",
         "0.0",
         "0.0",
         "0.0",
         "0.0",
         "0.0",
         "0.0",
         "0.0",
         "0.0",
         "0.0",
         "0.0",
         "0.0",
         "0.0",
         "0.0",
         "0.0",
         "0.0",
         "0.0",
         "0.0",
         "0.0",
         "0.0",
         "0.0",
         "0.0",
         "0.0",
         "0.0",
         "0.0",
         "0.0",
         "0.0",
         "0.0",
         "0.0",
         "0.0",
         "0.0",
         "0.0",
         "0.0",
         "0.0",
         "0.0",
         "0.0",
         "0.0",
         "0.0",
         "0.0",
         "0.0",
         "0.0",
         "0.0",
         "0.0",
         "0.0",
         "0.0",
         "0.0",
         "0.0",
         "0.0",
         "0.0",
         "0.0",
         "0.0",
         "0.0",
         "0.0",
         "0.0",
         "0.0",
         "0.0",
         "0.0",
         "0.0",
         "0.0",
         "0.0",
         "0.0",
         "0.0",
         "0.0",
         "0.0",
         "0.0",
         "0.0",
         "0.0",
         "0.0",
         "0.0",
         "0.0",
         "0.0",
         "0.0",
         "0.0",
         "0.0",
         "0.0",
         "0.0",
         "0.0",
         "0.0",
         "0.0",
         "0.0",
         "0.0",
         "0.0",
         "0.0",
         "0.0",
         "0.0",
         "0.0",
         "0.0",
         "0.0",
         "0.0",
         "0.0",
         "0.0",
         "0.0",
         "0.0",
         "0.0",
         "0.0",
         "0.0",
         "0.0",
         "0.0",
         "0.0",
         "0.0",
         "0.0",
         "0.0",
         "0.0",
         "0.0",
         "0.0",
         "0.0",
         "0.0",
         "0.0",
         "0.0",
         "0.0",
         "0.0",
         "0.0",
         "0.0",
         "0.0",
         "0.0",
         "0.0",
         "0.0",
         "0.0",
         "0.0",
         "0.0",
         "0.0",
         "0.0",
         "0.0",
         "0.0",
         "0.0",
         "0.0",
         "0.0",
         "0.0",
         "0.0",
         "0.0",
         "0.0",
         "0.0",
         "0.0",
         "0.0",
         "0.0",
         "0.0",
         "0.0",
         "0.0",
         "0.0",
         "0.0",
         "0.0",
         "0.0",
         "0.0",
         "0.0",
         "0.0",
         "0.0",
         "0.0",
         "0.0",
         "0.0",
         "0.0",
         "0.0",
         "0.0",
         "0.0",
         "0.0",
         "0.0",
         "0.0",
         "0.0",
         "0.0",
         "0.0",
         "0.0",
         "0.0",
         "0.0",
         "0.0",
         "0.0",
         "0.0",
         "0.0",
         "0.0",
         "0.0",
         "0.0",
         "0.0",
         "0.0",
         "0.0",
         "0.0",
         "0.0",
         "0.0",
         "0.0",
         "0.0",
         "0.0",
         "0.0",
         "0.0",
         "0.0",
         "0.0",
         "0.0",
         "0.0",
         "0.0",
         "0.0",
         "0.0",
         "0.0",
         "0.0",
         "0.0",
         "0.0",
         "0.0",
         "0.0",
         "0.0",
         "0.0",
         "0.0",
         "0.0",
         "1.0",
         "0.0",
         "0.0",
         "0.0",
         "0.0",
         "0.0",
         "0.0",
         "0.0",
         "0.0",
         "0.0",
         "0.0",
         "0.0",
         "0.0",
         "0.0",
         "0.0",
         "0.0",
         "0.0",
         "0.0",
         "0.0",
         "0.0",
         "0.0",
         "0.0",
         "0.0",
         "0.0",
         "0.0",
         "0.0",
         "0.0",
         "0.0",
         "0.0",
         "1.0",
         "0.0",
         "0.0",
         "0.0",
         "0.0",
         "0.0",
         "0.0",
         "0.0",
         "0.0",
         "0.0",
         "0.0",
         "0.0",
         "0.0",
         "0.0",
         "0.0",
         "0.0",
         "0.0",
         "0.0",
         "0.0",
         "0.0",
         "0.0",
         "0.0",
         "0.0",
         "0.0",
         "0.0",
         "0.0",
         "0.0",
         "0.0",
         "0.0",
         "0.0",
         "0.0",
         "0.0",
         "0.0",
         "0.0",
         "0.0",
         "0.0",
         "0.0",
         "0.0",
         "0.0",
         "0.0",
         "0.0",
         "0.0",
         "0.0",
         "0.0",
         "0.0",
         "0.0",
         "0.0",
         "0.0",
         "0.0",
         "0.0",
         "0.0",
         "0.0",
         "0.0",
         "0.0",
         "0.0",
         "0.0",
         "0.0",
         "0.0",
         "0.0",
         "0.0",
         "0.0",
         "0.0",
         "0.0",
         "0.0",
         "0.0",
         "0.0",
         "0.0",
         "0.0",
         "0.0",
         "0.0",
         "0.0",
         "0.0",
         "0.0",
         "0.0",
         "0.0",
         "0.0",
         "0.0",
         "0.0",
         "0.0",
         "0.0",
         "0.0",
         "0.0",
         "0.0",
         "0.0",
         "0.0",
         "0.0",
         "0.0",
         "0.0",
         "0.0",
         "0.0",
         "0.0",
         "0.0",
         "0.0",
         "0.0",
         "0.0",
         "0.0",
         "0.0",
         "0.0",
         "0.0",
         "0.0",
         "0.0",
         "0.0",
         "0.0",
         "0.0",
         "0.0",
         "0.0",
         "0.0",
         "0.0",
         "0.0",
         "0.0",
         "0.0",
         "0.0",
         "0.0",
         "0.0",
         "0.0",
         "0.0",
         "0.0",
         "0.0",
         "0.0",
         "0.0",
         "0.0",
         "0.0",
         "0.0",
         "0.0",
         "0.0",
         "0.0",
         "0.0",
         "0.0",
         "0.0",
         "0.0",
         "0.0",
         "0.0",
         "0.0",
         "0.0",
         "0.0",
         "0.0",
         "0.0",
         "0.0",
         "0.0",
         "0.0",
         "0.0",
         "0.0",
         "0.0",
         "0.0",
         "0.0",
         "0.0",
         "0.0",
         "0.0",
         "0.0",
         "0.0",
         "0.0",
         "0.0",
         "0.0",
         "0.0",
         "0.0",
         "0.0",
         "0.0",
         "0.0",
         "0.0",
         "0.0",
         "0.0",
         "0.0",
         "0.0",
         "0.0",
         "0.0",
         "0.0",
         "0.0",
         "0.0",
         "0.0",
         "0.0",
         "0.0",
         "0.0",
         "0.0",
         "0.0",
         "0.0",
         "0.0",
         "0.0",
         "0.0",
         "0.0",
         "0.0",
         "0.0",
         "0.0",
         "0.0",
         "0.0",
         "0.0",
         "0.0",
         "0.0",
         "0.0",
         "0.0",
         "0.0",
         "0.0",
         "0.0",
         "0.0",
         "0.0",
         "0.0",
         "0.0",
         "0.0",
         "0.0",
         "0.0",
         "0.0",
         "0.0",
         "0.0",
         "0.0",
         "0.0",
         "0.0",
         "0.0",
         "0.0",
         "0.0",
         "0.0",
         "0.0",
         "0.0",
         "0.0",
         "0.0",
         "0.0",
         "0.0",
         "0.0",
         "0.0",
         "0.0",
         "0.0",
         "0.0",
         "0.0",
         "0.0",
         "0.0",
         "0.0",
         "0.0",
         "0.0",
         "0.0",
         "0.0",
         "0.0",
         "0.0",
         "0.0",
         "0.0",
         "0.0",
         "0.0",
         "0.0",
         "0.0",
         "0.0",
         "0.0",
         "0.0",
         "0.0",
         "0.0",
         "0.0",
         "0.0",
         "0.0",
         "0.0",
         "0.0",
         "0.0",
         "0.0",
         "0.0",
         "0.0",
         "0.0"
        ]
       ],
       "shape": {
        "columns": 518,
        "rows": 5
       }
      },
      "text/html": [
       "<div>\n",
       "<style scoped>\n",
       "    .dataframe tbody tr th:only-of-type {\n",
       "        vertical-align: middle;\n",
       "    }\n",
       "\n",
       "    .dataframe tbody tr th {\n",
       "        vertical-align: top;\n",
       "    }\n",
       "\n",
       "    .dataframe thead th {\n",
       "        text-align: right;\n",
       "    }\n",
       "</style>\n",
       "<table border=\"1\" class=\"dataframe\">\n",
       "  <thead>\n",
       "    <tr style=\"text-align: right;\">\n",
       "      <th></th>\n",
       "      <th>DOLocationID=1</th>\n",
       "      <th>DOLocationID=10</th>\n",
       "      <th>DOLocationID=100</th>\n",
       "      <th>DOLocationID=101</th>\n",
       "      <th>DOLocationID=102</th>\n",
       "      <th>DOLocationID=105</th>\n",
       "      <th>DOLocationID=106</th>\n",
       "      <th>DOLocationID=107</th>\n",
       "      <th>DOLocationID=108</th>\n",
       "      <th>DOLocationID=109</th>\n",
       "      <th>...</th>\n",
       "      <th>PULocationID=90</th>\n",
       "      <th>PULocationID=91</th>\n",
       "      <th>PULocationID=92</th>\n",
       "      <th>PULocationID=93</th>\n",
       "      <th>PULocationID=94</th>\n",
       "      <th>PULocationID=95</th>\n",
       "      <th>PULocationID=96</th>\n",
       "      <th>PULocationID=97</th>\n",
       "      <th>PULocationID=98</th>\n",
       "      <th>PULocationID=99</th>\n",
       "    </tr>\n",
       "  </thead>\n",
       "  <tbody>\n",
       "    <tr>\n",
       "      <th>0</th>\n",
       "      <td>0.0</td>\n",
       "      <td>0.0</td>\n",
       "      <td>0.0</td>\n",
       "      <td>0.0</td>\n",
       "      <td>0.0</td>\n",
       "      <td>0.0</td>\n",
       "      <td>0.0</td>\n",
       "      <td>0.0</td>\n",
       "      <td>0.0</td>\n",
       "      <td>0.0</td>\n",
       "      <td>...</td>\n",
       "      <td>0.0</td>\n",
       "      <td>0.0</td>\n",
       "      <td>0.0</td>\n",
       "      <td>0.0</td>\n",
       "      <td>0.0</td>\n",
       "      <td>0.0</td>\n",
       "      <td>0.0</td>\n",
       "      <td>0.0</td>\n",
       "      <td>0.0</td>\n",
       "      <td>0.0</td>\n",
       "    </tr>\n",
       "    <tr>\n",
       "      <th>1</th>\n",
       "      <td>0.0</td>\n",
       "      <td>0.0</td>\n",
       "      <td>0.0</td>\n",
       "      <td>0.0</td>\n",
       "      <td>0.0</td>\n",
       "      <td>0.0</td>\n",
       "      <td>0.0</td>\n",
       "      <td>0.0</td>\n",
       "      <td>0.0</td>\n",
       "      <td>0.0</td>\n",
       "      <td>...</td>\n",
       "      <td>0.0</td>\n",
       "      <td>0.0</td>\n",
       "      <td>0.0</td>\n",
       "      <td>0.0</td>\n",
       "      <td>0.0</td>\n",
       "      <td>0.0</td>\n",
       "      <td>0.0</td>\n",
       "      <td>0.0</td>\n",
       "      <td>0.0</td>\n",
       "      <td>0.0</td>\n",
       "    </tr>\n",
       "    <tr>\n",
       "      <th>2</th>\n",
       "      <td>0.0</td>\n",
       "      <td>0.0</td>\n",
       "      <td>0.0</td>\n",
       "      <td>0.0</td>\n",
       "      <td>0.0</td>\n",
       "      <td>0.0</td>\n",
       "      <td>0.0</td>\n",
       "      <td>0.0</td>\n",
       "      <td>0.0</td>\n",
       "      <td>0.0</td>\n",
       "      <td>...</td>\n",
       "      <td>0.0</td>\n",
       "      <td>0.0</td>\n",
       "      <td>0.0</td>\n",
       "      <td>0.0</td>\n",
       "      <td>0.0</td>\n",
       "      <td>0.0</td>\n",
       "      <td>0.0</td>\n",
       "      <td>0.0</td>\n",
       "      <td>0.0</td>\n",
       "      <td>0.0</td>\n",
       "    </tr>\n",
       "    <tr>\n",
       "      <th>3</th>\n",
       "      <td>0.0</td>\n",
       "      <td>0.0</td>\n",
       "      <td>0.0</td>\n",
       "      <td>0.0</td>\n",
       "      <td>0.0</td>\n",
       "      <td>0.0</td>\n",
       "      <td>0.0</td>\n",
       "      <td>0.0</td>\n",
       "      <td>0.0</td>\n",
       "      <td>0.0</td>\n",
       "      <td>...</td>\n",
       "      <td>0.0</td>\n",
       "      <td>0.0</td>\n",
       "      <td>0.0</td>\n",
       "      <td>0.0</td>\n",
       "      <td>0.0</td>\n",
       "      <td>0.0</td>\n",
       "      <td>0.0</td>\n",
       "      <td>0.0</td>\n",
       "      <td>0.0</td>\n",
       "      <td>0.0</td>\n",
       "    </tr>\n",
       "    <tr>\n",
       "      <th>4</th>\n",
       "      <td>0.0</td>\n",
       "      <td>0.0</td>\n",
       "      <td>0.0</td>\n",
       "      <td>0.0</td>\n",
       "      <td>0.0</td>\n",
       "      <td>0.0</td>\n",
       "      <td>0.0</td>\n",
       "      <td>0.0</td>\n",
       "      <td>0.0</td>\n",
       "      <td>0.0</td>\n",
       "      <td>...</td>\n",
       "      <td>0.0</td>\n",
       "      <td>0.0</td>\n",
       "      <td>0.0</td>\n",
       "      <td>0.0</td>\n",
       "      <td>0.0</td>\n",
       "      <td>0.0</td>\n",
       "      <td>0.0</td>\n",
       "      <td>0.0</td>\n",
       "      <td>0.0</td>\n",
       "      <td>0.0</td>\n",
       "    </tr>\n",
       "  </tbody>\n",
       "</table>\n",
       "<p>5 rows × 518 columns</p>\n",
       "</div>"
      ],
      "text/plain": [
       "   DOLocationID=1  DOLocationID=10  DOLocationID=100  DOLocationID=101  \\\n",
       "0             0.0              0.0               0.0               0.0   \n",
       "1             0.0              0.0               0.0               0.0   \n",
       "2             0.0              0.0               0.0               0.0   \n",
       "3             0.0              0.0               0.0               0.0   \n",
       "4             0.0              0.0               0.0               0.0   \n",
       "\n",
       "   DOLocationID=102  DOLocationID=105  DOLocationID=106  DOLocationID=107  \\\n",
       "0               0.0               0.0               0.0               0.0   \n",
       "1               0.0               0.0               0.0               0.0   \n",
       "2               0.0               0.0               0.0               0.0   \n",
       "3               0.0               0.0               0.0               0.0   \n",
       "4               0.0               0.0               0.0               0.0   \n",
       "\n",
       "   DOLocationID=108  DOLocationID=109  ...  PULocationID=90  PULocationID=91  \\\n",
       "0               0.0               0.0  ...              0.0              0.0   \n",
       "1               0.0               0.0  ...              0.0              0.0   \n",
       "2               0.0               0.0  ...              0.0              0.0   \n",
       "3               0.0               0.0  ...              0.0              0.0   \n",
       "4               0.0               0.0  ...              0.0              0.0   \n",
       "\n",
       "   PULocationID=92  PULocationID=93  PULocationID=94  PULocationID=95  \\\n",
       "0              0.0              0.0              0.0              0.0   \n",
       "1              0.0              0.0              0.0              0.0   \n",
       "2              0.0              0.0              0.0              0.0   \n",
       "3              0.0              0.0              0.0              0.0   \n",
       "4              0.0              0.0              0.0              0.0   \n",
       "\n",
       "   PULocationID=96  PULocationID=97  PULocationID=98  PULocationID=99  \n",
       "0              0.0              0.0              0.0              0.0  \n",
       "1              0.0              0.0              0.0              0.0  \n",
       "2              0.0              0.0              0.0              0.0  \n",
       "3              0.0              0.0              0.0              0.0  \n",
       "4              0.0              0.0              0.0              0.0  \n",
       "\n",
       "[5 rows x 518 columns]"
      ]
     },
     "execution_count": 24,
     "metadata": {},
     "output_type": "execute_result"
    }
   ],
   "source": [
    "\"\"\"\n",
    "Let's apply one-hot encoding to the pickup and dropoff location IDs. We'll use only these two features for our model.\n",
    "\n",
    "Turn the dataframe into a list of dictionaries (remember to re-cast the ids to strings - otherwise it will label encode them)\n",
    "Fit a dictionary vectorizer\n",
    "Get a feature matrix from it\n",
    "\"\"\"\n",
    "from sklearn.feature_extraction import DictVectorizer\n",
    "\n",
    "# Convert the DataFrame to a list of dictionaries\n",
    "data_dicts = data[['PULocationID', 'DOLocationID']].to_dict(orient='records')\n",
    "# Convert the IDs to strings\n",
    "for record in data_dicts:\n",
    "    record['PULocationID'] = str(record['PULocationID'])\n",
    "    record['DOLocationID'] = str(record['DOLocationID'])\n",
    "# Initialize the DictVectorizer\n",
    "dv = DictVectorizer()\n",
    "# Fit the DictVectorizer and transform the data\n",
    "X = dv.fit_transform(data_dicts)\n",
    "# Convert the sparse matrix to a dense format\n",
    "X_dense = X.toarray()\n",
    "# Convert the dense matrix to a DataFrame\n",
    "X_df = pd.DataFrame(X_dense, columns=dv.get_feature_names_out())\n",
    "# Display the first few rows of the DataFrame\n",
    "X_df.head()"
   ]
  },
  {
   "cell_type": "code",
   "execution_count": 25,
   "id": "68b73b17",
   "metadata": {},
   "outputs": [
    {
     "data": {
      "text/plain": [
       "(3066766, 518)"
      ]
     },
     "execution_count": 25,
     "metadata": {},
     "output_type": "execute_result"
    }
   ],
   "source": [
    "X_df.shape"
   ]
  },
  {
   "cell_type": "code",
   "execution_count": null,
   "id": "7d8e35bd",
   "metadata": {},
   "outputs": [],
   "source": []
  }
 ],
 "metadata": {
  "kernelspec": {
   "display_name": "mlops",
   "language": "python",
   "name": "python3"
  },
  "language_info": {
   "codemirror_mode": {
    "name": "ipython",
    "version": 3
   },
   "file_extension": ".py",
   "mimetype": "text/x-python",
   "name": "python",
   "nbconvert_exporter": "python",
   "pygments_lexer": "ipython3",
   "version": "3.10.16"
  }
 },
 "nbformat": 4,
 "nbformat_minor": 5
}
